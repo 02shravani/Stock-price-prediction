{
 "cells": [
  {
   "cell_type": "code",
   "execution_count": 1,
   "id": "ff71bf4b",
   "metadata": {},
   "outputs": [],
   "source": [
    "import numpy as np\n",
    "import pandas as pd\n",
    "import matplotlib.pyplot as plt\n",
    "import seaborn as sns\n",
    "import yfinance as yf\n",
    "import datetime as dt"
   ]
  },
  {
   "cell_type": "code",
   "execution_count": 3,
   "id": "8c0963e2",
   "metadata": {},
   "outputs": [
    {
     "name": "stdout",
     "output_type": "stream",
     "text": [
      "[*********************100%%**********************]  2 of 2 completed\n"
     ]
    }
   ],
   "source": [
    "stocks = yf.download([\"TSLA\",'NVDA'],start=\"2018-03-31\", end=\"2023-04-01\")\n"
   ]
  },
  {
   "cell_type": "code",
   "execution_count": 4,
   "id": "60d08358",
   "metadata": {},
   "outputs": [
    {
     "data": {
      "text/html": [
       "<div>\n",
       "<style scoped>\n",
       "    .dataframe tbody tr th:only-of-type {\n",
       "        vertical-align: middle;\n",
       "    }\n",
       "\n",
       "    .dataframe tbody tr th {\n",
       "        vertical-align: top;\n",
       "    }\n",
       "\n",
       "    .dataframe thead tr th {\n",
       "        text-align: left;\n",
       "    }\n",
       "\n",
       "    .dataframe thead tr:last-of-type th {\n",
       "        text-align: right;\n",
       "    }\n",
       "</style>\n",
       "<table border=\"1\" class=\"dataframe\">\n",
       "  <thead>\n",
       "    <tr>\n",
       "      <th></th>\n",
       "      <th colspan=\"2\" halign=\"left\">Adj Close</th>\n",
       "      <th colspan=\"2\" halign=\"left\">Close</th>\n",
       "      <th colspan=\"2\" halign=\"left\">High</th>\n",
       "      <th colspan=\"2\" halign=\"left\">Low</th>\n",
       "      <th colspan=\"2\" halign=\"left\">Open</th>\n",
       "      <th colspan=\"2\" halign=\"left\">Volume</th>\n",
       "    </tr>\n",
       "    <tr>\n",
       "      <th></th>\n",
       "      <th>NVDA</th>\n",
       "      <th>TSLA</th>\n",
       "      <th>NVDA</th>\n",
       "      <th>TSLA</th>\n",
       "      <th>NVDA</th>\n",
       "      <th>TSLA</th>\n",
       "      <th>NVDA</th>\n",
       "      <th>TSLA</th>\n",
       "      <th>NVDA</th>\n",
       "      <th>TSLA</th>\n",
       "      <th>NVDA</th>\n",
       "      <th>TSLA</th>\n",
       "    </tr>\n",
       "    <tr>\n",
       "      <th>Date</th>\n",
       "      <th></th>\n",
       "      <th></th>\n",
       "      <th></th>\n",
       "      <th></th>\n",
       "      <th></th>\n",
       "      <th></th>\n",
       "      <th></th>\n",
       "      <th></th>\n",
       "      <th></th>\n",
       "      <th></th>\n",
       "      <th></th>\n",
       "      <th></th>\n",
       "    </tr>\n",
       "  </thead>\n",
       "  <tbody>\n",
       "    <tr>\n",
       "      <th>2018-04-02</th>\n",
       "      <td>54.714649</td>\n",
       "      <td>16.832001</td>\n",
       "      <td>55.262501</td>\n",
       "      <td>16.832001</td>\n",
       "      <td>58.662498</td>\n",
       "      <td>17.355333</td>\n",
       "      <td>54.375000</td>\n",
       "      <td>16.306000</td>\n",
       "      <td>57.185001</td>\n",
       "      <td>17.084000</td>\n",
       "      <td>92209200</td>\n",
       "      <td>241710000</td>\n",
       "    </tr>\n",
       "    <tr>\n",
       "      <th>2018-04-03</th>\n",
       "      <td>55.778999</td>\n",
       "      <td>17.835333</td>\n",
       "      <td>56.337502</td>\n",
       "      <td>17.835333</td>\n",
       "      <td>57.587502</td>\n",
       "      <td>18.223333</td>\n",
       "      <td>55.337502</td>\n",
       "      <td>16.966000</td>\n",
       "      <td>56.950001</td>\n",
       "      <td>17.988001</td>\n",
       "      <td>66743200</td>\n",
       "      <td>282666000</td>\n",
       "    </tr>\n",
       "    <tr>\n",
       "      <th>2018-04-04</th>\n",
       "      <td>55.999298</td>\n",
       "      <td>19.129333</td>\n",
       "      <td>56.560001</td>\n",
       "      <td>19.129333</td>\n",
       "      <td>56.665001</td>\n",
       "      <td>19.224667</td>\n",
       "      <td>53.500000</td>\n",
       "      <td>16.799999</td>\n",
       "      <td>53.752499</td>\n",
       "      <td>16.851999</td>\n",
       "      <td>78916800</td>\n",
       "      <td>298450500</td>\n",
       "    </tr>\n",
       "    <tr>\n",
       "      <th>2018-04-05</th>\n",
       "      <td>54.796345</td>\n",
       "      <td>20.381332</td>\n",
       "      <td>55.345001</td>\n",
       "      <td>20.381332</td>\n",
       "      <td>57.282501</td>\n",
       "      <td>20.417334</td>\n",
       "      <td>54.622501</td>\n",
       "      <td>19.213333</td>\n",
       "      <td>57.150002</td>\n",
       "      <td>19.289333</td>\n",
       "      <td>70124000</td>\n",
       "      <td>286816500</td>\n",
       "    </tr>\n",
       "    <tr>\n",
       "      <th>2018-04-06</th>\n",
       "      <td>53.031506</td>\n",
       "      <td>19.953333</td>\n",
       "      <td>53.562500</td>\n",
       "      <td>19.953333</td>\n",
       "      <td>55.400002</td>\n",
       "      <td>20.618668</td>\n",
       "      <td>53.267502</td>\n",
       "      <td>19.700001</td>\n",
       "      <td>54.307499</td>\n",
       "      <td>20.066668</td>\n",
       "      <td>66298800</td>\n",
       "      <td>202804500</td>\n",
       "    </tr>\n",
       "  </tbody>\n",
       "</table>\n",
       "</div>"
      ],
      "text/plain": [
       "            Adj Close                 Close                  High             \\\n",
       "                 NVDA       TSLA       NVDA       TSLA       NVDA       TSLA   \n",
       "Date                                                                           \n",
       "2018-04-02  54.714649  16.832001  55.262501  16.832001  58.662498  17.355333   \n",
       "2018-04-03  55.778999  17.835333  56.337502  17.835333  57.587502  18.223333   \n",
       "2018-04-04  55.999298  19.129333  56.560001  19.129333  56.665001  19.224667   \n",
       "2018-04-05  54.796345  20.381332  55.345001  20.381332  57.282501  20.417334   \n",
       "2018-04-06  53.031506  19.953333  53.562500  19.953333  55.400002  20.618668   \n",
       "\n",
       "                  Low                  Open               Volume             \n",
       "                 NVDA       TSLA       NVDA       TSLA      NVDA       TSLA  \n",
       "Date                                                                         \n",
       "2018-04-02  54.375000  16.306000  57.185001  17.084000  92209200  241710000  \n",
       "2018-04-03  55.337502  16.966000  56.950001  17.988001  66743200  282666000  \n",
       "2018-04-04  53.500000  16.799999  53.752499  16.851999  78916800  298450500  \n",
       "2018-04-05  54.622501  19.213333  57.150002  19.289333  70124000  286816500  \n",
       "2018-04-06  53.267502  19.700001  54.307499  20.066668  66298800  202804500  "
      ]
     },
     "execution_count": 4,
     "metadata": {},
     "output_type": "execute_result"
    }
   ],
   "source": [
    "stocks.head()"
   ]
  },
  {
   "cell_type": "code",
   "execution_count": 6,
   "id": "066fa6c9",
   "metadata": {
    "scrolled": false
   },
   "outputs": [
    {
     "data": {
      "image/png": "[encoded data removed]",
      "text/plain": [
       "<Figure size 1200x600 with 1 Axes>"
      ]
     },
     "metadata": {},
     "output_type": "display_data"
    }
   ],
   "source": [
    "plt.figure(figsize=(12, 6))\n",
    "plt.title(label=\"Closing Prices of the Chosen Stocks Over the 5-Year Period\",\n",
    "          fontsize=15)\n",
    "sns.lineplot(x=stocks.index, y=stocks['Close']['TSLA'], label='TSLA')\n",
    "sns.lineplot(x=stocks.index, y=stocks['Close']['NVDA'], label='BA')\n",
    "plt.xlabel(\"Year\",\n",
    "           fontsize=15)\n",
    "plt.ylabel(\"Stock Price (in USD)\",\n",
    "           fontsize=15)\n",
    "plt.grid()\n",
    "plt.legend(fontsize=15)\n",
    "plt.show()"
   ]
  },
  {
   "cell_type": "code",
   "execution_count": 7,
   "id": "aa076e4a",
   "metadata": {},
   "outputs": [
    {
     "data": {
      "text/html": [
       "<div>\n",
       "<style scoped>\n",
       "    .dataframe tbody tr th:only-of-type {\n",
       "        vertical-align: middle;\n",
       "    }\n",
       "\n",
       "    .dataframe tbody tr th {\n",
       "        vertical-align: top;\n",
       "    }\n",
       "\n",
       "    .dataframe thead th {\n",
       "        text-align: right;\n",
       "    }\n",
       "</style>\n",
       "<table border=\"1\" class=\"dataframe\">\n",
       "  <thead>\n",
       "    <tr style=\"text-align: right;\">\n",
       "      <th></th>\n",
       "      <th>NVDA</th>\n",
       "      <th>TSLA</th>\n",
       "    </tr>\n",
       "    <tr>\n",
       "      <th>Date</th>\n",
       "      <th></th>\n",
       "      <th></th>\n",
       "    </tr>\n",
       "  </thead>\n",
       "  <tbody>\n",
       "    <tr>\n",
       "      <th>2018-04-02</th>\n",
       "      <td>55.262501</td>\n",
       "      <td>16.832001</td>\n",
       "    </tr>\n",
       "    <tr>\n",
       "      <th>2018-06-29</th>\n",
       "      <td>59.224998</td>\n",
       "      <td>22.863333</td>\n",
       "    </tr>\n",
       "    <tr>\n",
       "      <th>2018-09-28</th>\n",
       "      <td>70.254997</td>\n",
       "      <td>17.651333</td>\n",
       "    </tr>\n",
       "    <tr>\n",
       "      <th>2018-12-31</th>\n",
       "      <td>33.375000</td>\n",
       "      <td>22.186666</td>\n",
       "    </tr>\n",
       "    <tr>\n",
       "      <th>2019-04-02</th>\n",
       "      <td>45.750000</td>\n",
       "      <td>19.058666</td>\n",
       "    </tr>\n",
       "  </tbody>\n",
       "</table>\n",
       "</div>"
      ],
      "text/plain": [
       "                 NVDA       TSLA\n",
       "Date                            \n",
       "2018-04-02  55.262501  16.832001\n",
       "2018-06-29  59.224998  22.863333\n",
       "2018-09-28  70.254997  17.651333\n",
       "2018-12-31  33.375000  22.186666\n",
       "2019-04-02  45.750000  19.058666"
      ]
     },
     "execution_count": 7,
     "metadata": {},
     "output_type": "execute_result"
    }
   ],
   "source": [
    "# getting the closing prices of the first days of each quarter for the chosen stocks\n",
    "qtr_stocks = stocks.iloc[::63]['Close']\n",
    "qtr_stocks.head()"
   ]
  },
  {
   "cell_type": "code",
   "execution_count": 8,
   "id": "26fa33c7",
   "metadata": {},
   "outputs": [
    {
     "data": {
      "text/plain": [
       "Date\n",
       "2018-04-02           NaN\n",
       "2018-06-29      3.962498\n",
       "2018-09-28     11.029999\n",
       "2018-12-31    -36.879997\n",
       "2019-04-02     12.375000\n",
       "2019-07-02     -5.192501\n",
       "2019-10-01      2.942501\n",
       "2019-12-31     15.325001\n",
       "2020-04-01      1.942501\n",
       "2020-07-01     34.532501\n",
       "2020-09-30     40.004990\n",
       "2020-12-30     -3.847488\n",
       "2021-04-01      6.659988\n",
       "2021-07-01     64.002502\n",
       "2021-09-30      5.040009\n",
       "2021-12-30     88.699982\n",
       "2022-03-31    -23.000000\n",
       "2022-07-01   -127.629990\n",
       "2022-09-30    -23.839996\n",
       "2022-12-30     24.750000\n",
       "Name: NVDA, dtype: float64"
      ]
     },
     "execution_count": 8,
     "metadata": {},
     "output_type": "execute_result"
    }
   ],
   "source": [
    "price_diff_NVDA = qtr_stocks['NVDA'].diff()\n",
    "price_diff_NVDA"
   ]
  },
  {
   "cell_type": "code",
   "execution_count": 9,
   "id": "55a7d6e3",
   "metadata": {},
   "outputs": [
    {
     "data": {
      "text/plain": [
       "Date\n",
       "2018-04-02         NaN\n",
       "2018-06-29    0.071703\n",
       "2018-09-28    0.186239\n",
       "2018-12-31   -0.524945\n",
       "2019-04-02    0.370787\n",
       "2019-07-02   -0.113497\n",
       "2019-10-01    0.072551\n",
       "2019-12-31    0.352299\n",
       "2020-04-01    0.033022\n",
       "2020-07-01    0.568273\n",
       "2020-09-30    0.419780\n",
       "2020-12-30   -0.028436\n",
       "2021-04-01    0.050663\n",
       "2021-07-01    0.463392\n",
       "2021-09-30    0.024936\n",
       "2021-12-30    0.428171\n",
       "2022-03-31   -0.077739\n",
       "2022-07-01   -0.467749\n",
       "2022-09-30   -0.164153\n",
       "2022-12-30    0.203888\n",
       "Name: NVDA, dtype: float64"
      ]
     },
     "execution_count": 9,
     "metadata": {},
     "output_type": "execute_result"
    }
   ],
   "source": [
    "# quarterly rate of return for AAPL\n",
    "# using shift method to get previous quarter's price for the current row\n",
    "qtr_ror_NVDA = qtr_stocks['NVDA'].diff()/qtr_stocks['NVDA'].shift(periods=1)\n",
    "qtr_ror_NVDA"
   ]
  },
  {
   "cell_type": "code",
   "execution_count": 10,
   "id": "496be77d",
   "metadata": {},
   "outputs": [],
   "source": [
    "df_qtr_ror_NVDA = pd.DataFrame(qtr_ror_NVDA)"
   ]
  },
  {
   "cell_type": "code",
   "execution_count": 12,
   "id": "32b87beb",
   "metadata": {},
   "outputs": [
    {
     "data": {
      "text/html": [
       "<div>\n",
       "<style scoped>\n",
       "    .dataframe tbody tr th:only-of-type {\n",
       "        vertical-align: middle;\n",
       "    }\n",
       "\n",
       "    .dataframe tbody tr th {\n",
       "        vertical-align: top;\n",
       "    }\n",
       "\n",
       "    .dataframe thead th {\n",
       "        text-align: right;\n",
       "    }\n",
       "</style>\n",
       "<table border=\"1\" class=\"dataframe\">\n",
       "  <thead>\n",
       "    <tr style=\"text-align: right;\">\n",
       "      <th></th>\n",
       "      <th>NVDA</th>\n",
       "    </tr>\n",
       "  </thead>\n",
       "  <tbody>\n",
       "    <tr>\n",
       "      <th>count</th>\n",
       "      <td>19.000000</td>\n",
       "    </tr>\n",
       "    <tr>\n",
       "      <th>mean</th>\n",
       "      <td>0.098378</td>\n",
       "    </tr>\n",
       "    <tr>\n",
       "      <th>std</th>\n",
       "      <td>0.298784</td>\n",
       "    </tr>\n",
       "    <tr>\n",
       "      <th>min</th>\n",
       "      <td>-0.524945</td>\n",
       "    </tr>\n",
       "    <tr>\n",
       "      <th>25%</th>\n",
       "      <td>-0.053088</td>\n",
       "    </tr>\n",
       "    <tr>\n",
       "      <th>50%</th>\n",
       "      <td>0.071703</td>\n",
       "    </tr>\n",
       "    <tr>\n",
       "      <th>75%</th>\n",
       "      <td>0.361543</td>\n",
       "    </tr>\n",
       "    <tr>\n",
       "      <th>max</th>\n",
       "      <td>0.568273</td>\n",
       "    </tr>\n",
       "  </tbody>\n",
       "</table>\n",
       "</div>"
      ],
      "text/plain": [
       "            NVDA\n",
       "count  19.000000\n",
       "mean    0.098378\n",
       "std     0.298784\n",
       "min    -0.524945\n",
       "25%    -0.053088\n",
       "50%     0.071703\n",
       "75%     0.361543\n",
       "max     0.568273"
      ]
     },
     "execution_count": 12,
     "metadata": {},
     "output_type": "execute_result"
    }
   ],
   "source": [
    "pd.DataFrame(qtr_ror_NVDA).describe()"
   ]
  },
  {
   "cell_type": "code",
   "execution_count": 13,
   "id": "00c61b11",
   "metadata": {},
   "outputs": [
    {
     "data": {
      "text/plain": [
       "0.09837803478814382"
      ]
     },
     "execution_count": 13,
     "metadata": {},
     "output_type": "execute_result"
    }
   ],
   "source": [
    "# expected quarterly rate of return for AAPL for a five-year period\n",
    "qtr_exp_ror_NVDA = qtr_ror_NVDA.mean()\n",
    "qtr_exp_ror_NVDA"
   ]
  },
  {
   "cell_type": "code",
   "execution_count": 14,
   "id": "8028acad",
   "metadata": {},
   "outputs": [
    {
     "data": {
      "text/plain": [
       "0.2987843199059443"
      ]
     },
     "execution_count": 14,
     "metadata": {},
     "output_type": "execute_result"
    }
   ],
   "source": [
    "# quarterly volatility of AAPL for a five-year period\n",
    "qtr_volatility_NVDA = qtr_ror_NVDA.std()\n",
    "qtr_volatility_NVDA"
   ]
  },
  {
   "cell_type": "code",
   "execution_count": 15,
   "id": "201cff28",
   "metadata": {},
   "outputs": [
    {
     "data": {
      "text/plain": [
       "Date\n",
       "2018-04-02         NaN\n",
       "2018-06-29    0.358325\n",
       "2018-09-28   -0.227963\n",
       "2018-12-31    0.256940\n",
       "2019-04-02   -0.140986\n",
       "2019-07-02   -0.214531\n",
       "2019-10-01    0.089691\n",
       "2019-12-31    0.709632\n",
       "2020-04-01    0.151149\n",
       "2020-07-01    1.325006\n",
       "2020-09-30    0.915856\n",
       "2020-12-30    0.619496\n",
       "2021-04-01   -0.047540\n",
       "2021-07-01    0.024435\n",
       "2021-09-30    0.143911\n",
       "2021-12-30    0.380229\n",
       "2022-03-31    0.006783\n",
       "2022-07-01   -0.367307\n",
       "2022-09-30    0.167148\n",
       "2022-12-30   -0.535608\n",
       "Name: TSLA, dtype: float64"
      ]
     },
     "execution_count": 15,
     "metadata": {},
     "output_type": "execute_result"
    }
   ],
   "source": [
    "# quarterly rate of return for TSLA\n",
    "# using shift method to get previous quarter's price for the current row\n",
    "qtr_ror_TSLA = qtr_stocks['TSLA'].diff()/qtr_stocks['TSLA'].shift(periods=1)\n",
    "qtr_ror_TSLA"
   ]
  },
  {
   "cell_type": "code",
   "execution_count": 16,
   "id": "beb1700e",
   "metadata": {},
   "outputs": [],
   "source": [
    "df_qtr_ror_TSLA = pd.DataFrame(qtr_ror_TSLA)"
   ]
  },
  {
   "cell_type": "code",
   "execution_count": 17,
   "id": "d4626a22",
   "metadata": {},
   "outputs": [
    {
     "data": {
      "text/html": [
       "<div>\n",
       "<style scoped>\n",
       "    .dataframe tbody tr th:only-of-type {\n",
       "        vertical-align: middle;\n",
       "    }\n",
       "\n",
       "    .dataframe tbody tr th {\n",
       "        vertical-align: top;\n",
       "    }\n",
       "\n",
       "    .dataframe thead th {\n",
       "        text-align: right;\n",
       "    }\n",
       "</style>\n",
       "<table border=\"1\" class=\"dataframe\">\n",
       "  <thead>\n",
       "    <tr style=\"text-align: right;\">\n",
       "      <th></th>\n",
       "      <th>TSLA</th>\n",
       "    </tr>\n",
       "  </thead>\n",
       "  <tbody>\n",
       "    <tr>\n",
       "      <th>count</th>\n",
       "      <td>19.000000</td>\n",
       "    </tr>\n",
       "    <tr>\n",
       "      <th>mean</th>\n",
       "      <td>0.190246</td>\n",
       "    </tr>\n",
       "    <tr>\n",
       "      <th>std</th>\n",
       "      <td>0.456752</td>\n",
       "    </tr>\n",
       "    <tr>\n",
       "      <th>min</th>\n",
       "      <td>-0.535608</td>\n",
       "    </tr>\n",
       "    <tr>\n",
       "      <th>25%</th>\n",
       "      <td>-0.094263</td>\n",
       "    </tr>\n",
       "    <tr>\n",
       "      <th>50%</th>\n",
       "      <td>0.143911</td>\n",
       "    </tr>\n",
       "    <tr>\n",
       "      <th>75%</th>\n",
       "      <td>0.369277</td>\n",
       "    </tr>\n",
       "    <tr>\n",
       "      <th>max</th>\n",
       "      <td>1.325006</td>\n",
       "    </tr>\n",
       "  </tbody>\n",
       "</table>\n",
       "</div>"
      ],
      "text/plain": [
       "            TSLA\n",
       "count  19.000000\n",
       "mean    0.190246\n",
       "std     0.456752\n",
       "min    -0.535608\n",
       "25%    -0.094263\n",
       "50%     0.143911\n",
       "75%     0.369277\n",
       "max     1.325006"
      ]
     },
     "execution_count": 17,
     "metadata": {},
     "output_type": "execute_result"
    }
   ],
   "source": [
    "pd.DataFrame(qtr_ror_TSLA).describe()"
   ]
  },
  {
   "cell_type": "code",
   "execution_count": 18,
   "id": "7b6e57b3",
   "metadata": {},
   "outputs": [
    {
     "data": {
      "text/plain": [
       "0.1902456307296535"
      ]
     },
     "execution_count": 18,
     "metadata": {},
     "output_type": "execute_result"
    }
   ],
   "source": [
    "# expected quarterly rate of return for TSLA for a five-year period\n",
    "qtr_exp_ror_TSLA = qtr_ror_TSLA.mean()\n",
    "qtr_exp_ror_TSLA"
   ]
  },
  {
   "cell_type": "code",
   "execution_count": 19,
   "id": "4f112faf",
   "metadata": {},
   "outputs": [
    {
     "data": {
      "text/plain": [
       "0.45675195077220004"
      ]
     },
     "execution_count": 19,
     "metadata": {},
     "output_type": "execute_result"
    }
   ],
   "source": [
    "# quarterly volatility of TSLA for a five-year period\n",
    "qtr_volatility_TSLA = qtr_ror_TSLA.std()\n",
    "qtr_volatility_TSLA"
   ]
  },
  {
   "cell_type": "code",
   "execution_count": 21,
   "id": "0380c964",
   "metadata": {},
   "outputs": [
    {
     "data": {
      "text/plain": [
       "0.05867106216346732"
      ]
     },
     "execution_count": 21,
     "metadata": {},
     "output_type": "execute_result"
    }
   ],
   "source": [
    "# covariance of quarterly returns of AAPL and TSLA for a five-year period\n",
    "df_qtr_chosen_stocks = pd.concat([df_qtr_ror_NVDA,df_qtr_ror_TSLA],axis=1)\n",
    "qtr_cov_NVDA_TSLA = df_qtr_chosen_stocks.cov()['NVDA']['TSLA']\n",
    "qtr_cov_NVDA_TSLA"
   ]
  },
  {
   "cell_type": "raw",
   "id": "7c1766fe",
   "metadata": {},
   "source": [
    "# doing stuff to another stock\n",
    "\n",
    "# quarterly rate of return for a stock\n",
    "# using shift method to get previous quarter's price for the current row\n",
    "qtr_ror_ = qtr_stocks['stock'].diff()/qtr_stocks['stock'].shift(periods=1)\n",
    "# expected quarterly rate of return for a stock for a five-year period\n",
    "qtr_exp_ror_stock = qtr_ror_stock.mean()\n",
    "# quarterly volatility of a stock for a five-year period\n",
    "qtr_volatility_stock = qtr_ror_stock.std()\n",
    "# covariance of quarterly returns of stock1 and stock2 for a five-year period\n",
    "df_qtr_chosen_stocks = pd.concat([df_qtr_ror_stock1,df_qtr_ror_stock2],axis=1)\n",
    "qtr_cov_stock1_stock2 = df_qtr_chosen_stocks.cov()['stock1']['stock2']\n"
   ]
  },
  {
   "cell_type": "code",
   "execution_count": 22,
   "id": "5c62f699",
   "metadata": {},
   "outputs": [
    {
     "data": {
      "text/html": [
       "<div>\n",
       "<style scoped>\n",
       "    .dataframe tbody tr th:only-of-type {\n",
       "        vertical-align: middle;\n",
       "    }\n",
       "\n",
       "    .dataframe tbody tr th {\n",
       "        vertical-align: top;\n",
       "    }\n",
       "\n",
       "    .dataframe thead th {\n",
       "        text-align: right;\n",
       "    }\n",
       "</style>\n",
       "<table border=\"1\" class=\"dataframe\">\n",
       "  <thead>\n",
       "    <tr style=\"text-align: right;\">\n",
       "      <th></th>\n",
       "      <th>X_a</th>\n",
       "      <th>X_b</th>\n",
       "      <th>exp_ror_portfolio</th>\n",
       "      <th>qtr_volatity_portfolio</th>\n",
       "    </tr>\n",
       "  </thead>\n",
       "  <tbody>\n",
       "    <tr>\n",
       "      <th>0</th>\n",
       "      <td>0.00</td>\n",
       "      <td>1.00</td>\n",
       "      <td>0.190246</td>\n",
       "      <td>0.208622</td>\n",
       "    </tr>\n",
       "    <tr>\n",
       "      <th>1</th>\n",
       "      <td>0.01</td>\n",
       "      <td>0.99</td>\n",
       "      <td>0.189327</td>\n",
       "      <td>0.205641</td>\n",
       "    </tr>\n",
       "    <tr>\n",
       "      <th>2</th>\n",
       "      <td>0.02</td>\n",
       "      <td>0.98</td>\n",
       "      <td>0.188408</td>\n",
       "      <td>0.202697</td>\n",
       "    </tr>\n",
       "    <tr>\n",
       "      <th>3</th>\n",
       "      <td>0.03</td>\n",
       "      <td>0.97</td>\n",
       "      <td>0.187490</td>\n",
       "      <td>0.199788</td>\n",
       "    </tr>\n",
       "    <tr>\n",
       "      <th>4</th>\n",
       "      <td>0.04</td>\n",
       "      <td>0.96</td>\n",
       "      <td>0.186571</td>\n",
       "      <td>0.196915</td>\n",
       "    </tr>\n",
       "    <tr>\n",
       "      <th>...</th>\n",
       "      <td>...</td>\n",
       "      <td>...</td>\n",
       "      <td>...</td>\n",
       "      <td>...</td>\n",
       "    </tr>\n",
       "    <tr>\n",
       "      <th>96</th>\n",
       "      <td>0.96</td>\n",
       "      <td>0.04</td>\n",
       "      <td>0.102053</td>\n",
       "      <td>0.087113</td>\n",
       "    </tr>\n",
       "    <tr>\n",
       "      <th>97</th>\n",
       "      <td>0.97</td>\n",
       "      <td>0.03</td>\n",
       "      <td>0.101134</td>\n",
       "      <td>0.087599</td>\n",
       "    </tr>\n",
       "    <tr>\n",
       "      <th>98</th>\n",
       "      <td>0.98</td>\n",
       "      <td>0.02</td>\n",
       "      <td>0.100215</td>\n",
       "      <td>0.088120</td>\n",
       "    </tr>\n",
       "    <tr>\n",
       "      <th>99</th>\n",
       "      <td>0.99</td>\n",
       "      <td>0.01</td>\n",
       "      <td>0.099297</td>\n",
       "      <td>0.088678</td>\n",
       "    </tr>\n",
       "    <tr>\n",
       "      <th>100</th>\n",
       "      <td>1.00</td>\n",
       "      <td>0.00</td>\n",
       "      <td>0.098378</td>\n",
       "      <td>0.089272</td>\n",
       "    </tr>\n",
       "  </tbody>\n",
       "</table>\n",
       "<p>101 rows × 4 columns</p>\n",
       "</div>"
      ],
      "text/plain": [
       "      X_a   X_b  exp_ror_portfolio  qtr_volatity_portfolio\n",
       "0    0.00  1.00           0.190246                0.208622\n",
       "1    0.01  0.99           0.189327                0.205641\n",
       "2    0.02  0.98           0.188408                0.202697\n",
       "3    0.03  0.97           0.187490                0.199788\n",
       "4    0.04  0.96           0.186571                0.196915\n",
       "..    ...   ...                ...                     ...\n",
       "96   0.96  0.04           0.102053                0.087113\n",
       "97   0.97  0.03           0.101134                0.087599\n",
       "98   0.98  0.02           0.100215                0.088120\n",
       "99   0.99  0.01           0.099297                0.088678\n",
       "100  1.00  0.00           0.098378                0.089272\n",
       "\n",
       "[101 rows x 4 columns]"
      ]
     },
     "execution_count": 22,
     "metadata": {},
     "output_type": "execute_result"
    }
   ],
   "source": [
    "# Markowitz portfolio optimization\n",
    "# exp_ror_portfolio = X_a*a_bar + X_b*b_bar\n",
    "# var_portfolio = (X_a^2*sigma_a^2) + (X_b^2*sigma_b^2) + 2*X_a*X_b*cov_a_b\n",
    "list_X_a = [i*0.01 for i in range(0,101)]\n",
    "df_markowitz = pd.DataFrame(list_X_a,columns=['X_a'])\n",
    "df_markowitz['X_b'] = 1 - df_markowitz['X_a']\n",
    "df_markowitz['exp_ror_portfolio'] = df_markowitz['X_a']*qtr_exp_ror_NVDA + df_markowitz['X_b']*qtr_exp_ror_TSLA\n",
    "df_markowitz['qtr_volatity_portfolio'] = (df_markowitz['X_a']**2)*(qtr_volatility_NVDA**2) + (df_markowitz['X_b']**2)*(qtr_volatility_TSLA**2) + 2*df_markowitz['X_a']*df_markowitz['X_b']*qtr_cov_NVDA_TSLA\n",
    "df_markowitz"
   ]
  },
  {
   "cell_type": "code",
   "execution_count": 23,
   "id": "71cc91c6",
   "metadata": {
    "scrolled": false
   },
   "outputs": [
    {
     "data": {
      "image/png": "[encoded data removed]",
      "text/plain": [
       "<Figure size 640x480 with 1 Axes>"
      ]
     },
     "metadata": {},
     "output_type": "display_data"
    }
   ],
   "source": [
    "# plotting Risk vs Return\n",
    "sns.scatterplot(y=df_markowitz['exp_ror_portfolio'],x=df_markowitz['qtr_volatity_portfolio'])\n",
    "plt.show()"
   ]
  },
  {
   "cell_type": "code",
   "execution_count": 24,
   "id": "f5007eef",
   "metadata": {
    "scrolled": true
   },
   "outputs": [
    {
     "data": {
      "text/plain": [
       "0.0840856883997091"
      ]
     },
     "execution_count": 24,
     "metadata": {},
     "output_type": "execute_result"
    }
   ],
   "source": [
    "df_markowitz['qtr_volatity_portfolio'].min()"
   ]
  },
  {
   "cell_type": "code",
   "execution_count": 25,
   "id": "d0dd720e",
   "metadata": {},
   "outputs": [
    {
     "data": {
      "text/html": [
       "<div>\n",
       "<style scoped>\n",
       "    .dataframe tbody tr th:only-of-type {\n",
       "        vertical-align: middle;\n",
       "    }\n",
       "\n",
       "    .dataframe tbody tr th {\n",
       "        vertical-align: top;\n",
       "    }\n",
       "\n",
       "    .dataframe thead th {\n",
       "        text-align: right;\n",
       "    }\n",
       "</style>\n",
       "<table border=\"1\" class=\"dataframe\">\n",
       "  <thead>\n",
       "    <tr style=\"text-align: right;\">\n",
       "      <th></th>\n",
       "      <th>X_a</th>\n",
       "      <th>X_b</th>\n",
       "      <th>exp_ror_portfolio</th>\n",
       "      <th>qtr_volatity_portfolio</th>\n",
       "    </tr>\n",
       "  </thead>\n",
       "  <tbody>\n",
       "    <tr>\n",
       "      <th>83</th>\n",
       "      <td>0.83</td>\n",
       "      <td>0.17</td>\n",
       "      <td>0.113996</td>\n",
       "      <td>0.084086</td>\n",
       "    </tr>\n",
       "  </tbody>\n",
       "</table>\n",
       "</div>"
      ],
      "text/plain": [
       "     X_a   X_b  exp_ror_portfolio  qtr_volatity_portfolio\n",
       "83  0.83  0.17           0.113996                0.084086"
      ]
     },
     "execution_count": 25,
     "metadata": {},
     "output_type": "execute_result"
    }
   ],
   "source": [
    "# The ideal weights of your investment\n",
    "df_markowitz[df_markowitz['qtr_volatity_portfolio'] == df_markowitz['qtr_volatity_portfolio'].min()]"
   ]
  }
 ],
 "metadata": {
  "kernelspec": {
   "display_name": "Python 3 (ipykernel)",
   "language": "python",
   "name": "python3"
  },
  "language_info": {
   "codemirror_mode": {
    "name": "ipython",
    "version": 3
   },
   "file_extension": ".py",
   "mimetype": "text/x-python",
   "name": "python",
   "nbconvert_exporter": "python",
   "pygments_lexer": "ipython3",
   "version": "3.11.3"
  }
 },
 "nbformat": 4,
 "nbformat_minor": 5
}
