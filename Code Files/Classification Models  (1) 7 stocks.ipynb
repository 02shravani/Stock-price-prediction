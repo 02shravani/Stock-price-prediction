{
 "cells": [
  {
   "cell_type": "code",
   "execution_count": 1,
   "id": "6eab2864",
   "metadata": {},
   "outputs": [],
   "source": [
    "import numpy as np\n",
    "import pandas as pd\n",
    "import seaborn as sns\n",
    "import yfinance as yf\n",
    "import matplotlib.pyplot as plt\n",
    "from sklearn.ensemble import RandomForestClassifier\n",
    "from sklearn.metrics import classification_report\n",
    "from sklearn.metrics import r2_score, precision_score, mean_absolute_error\n",
    "from warnings import filterwarnings\n",
    "filterwarnings('ignore')"
   ]
  },
  {
   "cell_type": "code",
   "execution_count": 12,
   "id": "0f3762be",
   "metadata": {},
   "outputs": [],
   "source": [
    "## STLD"
   ]
  },
  {
   "cell_type": "code",
   "execution_count": 2,
   "id": "bbfff5c5",
   "metadata": {},
   "outputs": [
    {
     "data": {
      "text/html": [
       "<div>\n",
       "<style scoped>\n",
       "    .dataframe tbody tr th:only-of-type {\n",
       "        vertical-align: middle;\n",
       "    }\n",
       "\n",
       "    .dataframe tbody tr th {\n",
       "        vertical-align: top;\n",
       "    }\n",
       "\n",
       "    .dataframe thead th {\n",
       "        text-align: right;\n",
       "    }\n",
       "</style>\n",
       "<table border=\"1\" class=\"dataframe\">\n",
       "  <thead>\n",
       "    <tr style=\"text-align: right;\">\n",
       "      <th></th>\n",
       "      <th>Open</th>\n",
       "      <th>High</th>\n",
       "      <th>Low</th>\n",
       "      <th>Close</th>\n",
       "      <th>Volume</th>\n",
       "      <th>Dividends</th>\n",
       "      <th>Stock Splits</th>\n",
       "    </tr>\n",
       "    <tr>\n",
       "      <th>Date</th>\n",
       "      <th></th>\n",
       "      <th></th>\n",
       "      <th></th>\n",
       "      <th></th>\n",
       "      <th></th>\n",
       "      <th></th>\n",
       "      <th></th>\n",
       "    </tr>\n",
       "  </thead>\n",
       "  <tbody>\n",
       "    <tr>\n",
       "      <th>2004-02-23 00:00:00-05:00</th>\n",
       "      <td>3.885004</td>\n",
       "      <td>3.969744</td>\n",
       "      <td>3.860559</td>\n",
       "      <td>3.898041</td>\n",
       "      <td>1254000</td>\n",
       "      <td>0.0</td>\n",
       "      <td>0.0</td>\n",
       "    </tr>\n",
       "    <tr>\n",
       "      <th>2004-02-24 00:00:00-05:00</th>\n",
       "      <td>3.855669</td>\n",
       "      <td>3.899669</td>\n",
       "      <td>3.780707</td>\n",
       "      <td>3.852410</td>\n",
       "      <td>1534000</td>\n",
       "      <td>0.0</td>\n",
       "      <td>0.0</td>\n",
       "    </tr>\n",
       "    <tr>\n",
       "      <th>2004-02-25 00:00:00-05:00</th>\n",
       "      <td>3.880115</td>\n",
       "      <td>3.927374</td>\n",
       "      <td>3.805152</td>\n",
       "      <td>3.837744</td>\n",
       "      <td>1675200</td>\n",
       "      <td>0.0</td>\n",
       "      <td>0.0</td>\n",
       "    </tr>\n",
       "    <tr>\n",
       "      <th>2004-02-26 00:00:00-05:00</th>\n",
       "      <td>3.827967</td>\n",
       "      <td>3.837744</td>\n",
       "      <td>3.772560</td>\n",
       "      <td>3.810041</td>\n",
       "      <td>2266000</td>\n",
       "      <td>0.0</td>\n",
       "      <td>0.0</td>\n",
       "    </tr>\n",
       "    <tr>\n",
       "      <th>2004-02-27 00:00:00-05:00</th>\n",
       "      <td>3.800263</td>\n",
       "      <td>3.956706</td>\n",
       "      <td>3.780708</td>\n",
       "      <td>3.951818</td>\n",
       "      <td>2272800</td>\n",
       "      <td>0.0</td>\n",
       "      <td>0.0</td>\n",
       "    </tr>\n",
       "  </tbody>\n",
       "</table>\n",
       "</div>"
      ],
      "text/plain": [
       "                               Open      High       Low     Close   Volume  \\\n",
       "Date                                                                         \n",
       "2004-02-23 00:00:00-05:00  3.885004  3.969744  3.860559  3.898041  1254000   \n",
       "2004-02-24 00:00:00-05:00  3.855669  3.899669  3.780707  3.852410  1534000   \n",
       "2004-02-25 00:00:00-05:00  3.880115  3.927374  3.805152  3.837744  1675200   \n",
       "2004-02-26 00:00:00-05:00  3.827967  3.837744  3.772560  3.810041  2266000   \n",
       "2004-02-27 00:00:00-05:00  3.800263  3.956706  3.780708  3.951818  2272800   \n",
       "\n",
       "                           Dividends  Stock Splits  \n",
       "Date                                                \n",
       "2004-02-23 00:00:00-05:00        0.0           0.0  \n",
       "2004-02-24 00:00:00-05:00        0.0           0.0  \n",
       "2004-02-25 00:00:00-05:00        0.0           0.0  \n",
       "2004-02-26 00:00:00-05:00        0.0           0.0  \n",
       "2004-02-27 00:00:00-05:00        0.0           0.0  "
      ]
     },
     "execution_count": 2,
     "metadata": {},
     "output_type": "execute_result"
    }
   ],
   "source": [
    "Stock = yf.Ticker(\"STLD\")\n",
    "df = Stock.history(period = '20y')\n",
    "df.head()"
   ]
  },
  {
   "cell_type": "code",
   "execution_count": 56,
   "id": "d0ea1917",
   "metadata": {},
   "outputs": [
    {
     "data": {
      "text/html": [
       "<div>\n",
       "<style scoped>\n",
       "    .dataframe tbody tr th:only-of-type {\n",
       "        vertical-align: middle;\n",
       "    }\n",
       "\n",
       "    .dataframe tbody tr th {\n",
       "        vertical-align: top;\n",
       "    }\n",
       "\n",
       "    .dataframe thead th {\n",
       "        text-align: right;\n",
       "    }\n",
       "</style>\n",
       "<table border=\"1\" class=\"dataframe\">\n",
       "  <thead>\n",
       "    <tr style=\"text-align: right;\">\n",
       "      <th></th>\n",
       "      <th>Open</th>\n",
       "      <th>High</th>\n",
       "      <th>Low</th>\n",
       "      <th>Close</th>\n",
       "      <th>Volume</th>\n",
       "      <th>Next Day Price</th>\n",
       "      <th>Target</th>\n",
       "    </tr>\n",
       "    <tr>\n",
       "      <th>Date</th>\n",
       "      <th></th>\n",
       "      <th></th>\n",
       "      <th></th>\n",
       "      <th></th>\n",
       "      <th></th>\n",
       "      <th></th>\n",
       "      <th></th>\n",
       "    </tr>\n",
       "  </thead>\n",
       "  <tbody>\n",
       "    <tr>\n",
       "      <th>2004-02-23 00:00:00-05:00</th>\n",
       "      <td>3.885004</td>\n",
       "      <td>3.969744</td>\n",
       "      <td>3.860560</td>\n",
       "      <td>3.898041</td>\n",
       "      <td>1254000</td>\n",
       "      <td>3.852410</td>\n",
       "      <td>0</td>\n",
       "    </tr>\n",
       "    <tr>\n",
       "      <th>2004-02-24 00:00:00-05:00</th>\n",
       "      <td>3.855669</td>\n",
       "      <td>3.899669</td>\n",
       "      <td>3.780707</td>\n",
       "      <td>3.852410</td>\n",
       "      <td>1534000</td>\n",
       "      <td>3.837746</td>\n",
       "      <td>0</td>\n",
       "    </tr>\n",
       "    <tr>\n",
       "      <th>2004-02-25 00:00:00-05:00</th>\n",
       "      <td>3.880116</td>\n",
       "      <td>3.927375</td>\n",
       "      <td>3.805154</td>\n",
       "      <td>3.837746</td>\n",
       "      <td>1675200</td>\n",
       "      <td>3.810039</td>\n",
       "      <td>0</td>\n",
       "    </tr>\n",
       "    <tr>\n",
       "      <th>2004-02-26 00:00:00-05:00</th>\n",
       "      <td>3.827965</td>\n",
       "      <td>3.837743</td>\n",
       "      <td>3.772558</td>\n",
       "      <td>3.810039</td>\n",
       "      <td>2266000</td>\n",
       "      <td>3.951819</td>\n",
       "      <td>1</td>\n",
       "    </tr>\n",
       "    <tr>\n",
       "      <th>2004-02-27 00:00:00-05:00</th>\n",
       "      <td>3.800265</td>\n",
       "      <td>3.956708</td>\n",
       "      <td>3.780709</td>\n",
       "      <td>3.951819</td>\n",
       "      <td>2272800</td>\n",
       "      <td>4.122928</td>\n",
       "      <td>1</td>\n",
       "    </tr>\n",
       "  </tbody>\n",
       "</table>\n",
       "</div>"
      ],
      "text/plain": [
       "                               Open      High       Low     Close   Volume  \\\n",
       "Date                                                                         \n",
       "2004-02-23 00:00:00-05:00  3.885004  3.969744  3.860560  3.898041  1254000   \n",
       "2004-02-24 00:00:00-05:00  3.855669  3.899669  3.780707  3.852410  1534000   \n",
       "2004-02-25 00:00:00-05:00  3.880116  3.927375  3.805154  3.837746  1675200   \n",
       "2004-02-26 00:00:00-05:00  3.827965  3.837743  3.772558  3.810039  2266000   \n",
       "2004-02-27 00:00:00-05:00  3.800265  3.956708  3.780709  3.951819  2272800   \n",
       "\n",
       "                           Next Day Price  Target  \n",
       "Date                                               \n",
       "2004-02-23 00:00:00-05:00        3.852410       0  \n",
       "2004-02-24 00:00:00-05:00        3.837746       0  \n",
       "2004-02-25 00:00:00-05:00        3.810039       0  \n",
       "2004-02-26 00:00:00-05:00        3.951819       1  \n",
       "2004-02-27 00:00:00-05:00        4.122928       1  "
      ]
     },
     "execution_count": 56,
     "metadata": {},
     "output_type": "execute_result"
    }
   ],
   "source": [
    "df.drop(['Dividends', 'Stock Splits'], axis = 1, inplace = True)\n",
    "df['Next Day Price'] = df['Close'].shift(-1)\n",
    "df['Target'] = (df['Next Day Price'] > df['Close']).astype(int)\n",
    "df.head()"
   ]
  },
  {
   "cell_type": "code",
   "execution_count": 57,
   "id": "c26936fe",
   "metadata": {},
   "outputs": [
    {
     "data": {
      "text/plain": [
       "(5034, 7)"
      ]
     },
     "execution_count": 57,
     "metadata": {},
     "output_type": "execute_result"
    }
   ],
   "source": [
    "df.shape"
   ]
  },
  {
   "cell_type": "code",
   "execution_count": 60,
   "id": "1522c5ad",
   "metadata": {},
   "outputs": [],
   "source": [
    "train = df.iloc[:-200]\n",
    "test = df.iloc[-200:]\n",
    "\n",
    "X_train = train[['Close']]\n",
    "y_train = train[['Target']]\n",
    "X_test = test[['Close']]\n",
    "y_test = test[['Target']]"
   ]
  },
  {
   "cell_type": "code",
   "execution_count": 61,
   "id": "8ebf4cb5",
   "metadata": {},
   "outputs": [
    {
     "name": "stdout",
     "output_type": "stream",
     "text": [
      "(4834, 1)\n",
      "(200, 1)\n",
      "(4834, 1)\n",
      "(200, 1)\n"
     ]
    }
   ],
   "source": [
    "print(X_train.shape)\n",
    "print(X_test.shape)\n",
    "print(y_train.shape)\n",
    "print(y_test.shape)"
   ]
  },
  {
   "cell_type": "code",
   "execution_count": 62,
   "id": "63aa8426",
   "metadata": {},
   "outputs": [
    {
     "data": {
      "text/plain": [
       "array([1, 0, 0, 1, 1, 0, 0, 1, 0, 0, 1, 0, 0, 1, 1, 1, 1, 0, 1, 0, 0, 0,\n",
       "       1, 1, 0, 1, 1, 1, 1, 1, 1, 0, 1, 1, 1, 1, 1, 1, 0, 1, 0, 0, 0, 0,\n",
       "       1, 0, 0, 1, 1, 0, 0, 1, 1, 1, 0, 0, 0, 1, 1, 0, 0, 0, 0, 0, 1, 0,\n",
       "       1, 1, 0, 1, 1, 0, 0, 1, 0, 0, 1, 1, 1, 1, 1, 1, 0, 1, 0, 0, 0, 1,\n",
       "       1, 0, 0, 0, 1, 1, 1, 1, 1, 1, 0, 1, 1, 0, 1, 1, 0, 0, 0, 0, 0, 1,\n",
       "       0, 1, 0, 1, 1, 1, 0, 1, 1, 1, 1, 0, 0, 1, 1, 1, 1, 1, 0, 0, 1, 1,\n",
       "       0, 0, 0, 0, 0, 1, 0, 0, 1, 0, 0, 0, 1, 1, 0, 1, 0, 0, 0, 0, 0, 0,\n",
       "       1, 1, 0, 0, 0, 0, 1, 1, 1, 1, 0, 1, 1, 1, 1, 1, 0, 0, 0, 0, 1, 0,\n",
       "       0, 0, 0, 1, 1, 0, 1, 1, 0, 1, 0, 0, 0, 0, 0, 0, 0, 1, 0, 0, 1, 1,\n",
       "       0, 0])"
      ]
     },
     "execution_count": 62,
     "metadata": {},
     "output_type": "execute_result"
    }
   ],
   "source": [
    "from sklearn.tree import DecisionTreeClassifier\n",
    "\n",
    "DT = DecisionTreeClassifier()\n",
    "D_Model = DT.fit(X_train,y_train)\n",
    "DT_pred = DT.predict(X_test)\n",
    "DT_pred"
   ]
  },
  {
   "cell_type": "code",
   "execution_count": 63,
   "id": "af0e01db",
   "metadata": {},
   "outputs": [
    {
     "name": "stdout",
     "output_type": "stream",
     "text": [
      "              precision    recall  f1-score   support\n",
      "\n",
      "           0       0.46      0.51      0.48        90\n",
      "           1       0.56      0.50      0.53       110\n",
      "\n",
      "    accuracy                           0.51       200\n",
      "   macro avg       0.51      0.51      0.50       200\n",
      "weighted avg       0.51      0.51      0.51       200\n",
      "\n"
     ]
    }
   ],
   "source": [
    "report = classification_report(y_test, DT_pred)\n",
    "print(report)"
   ]
  },
  {
   "cell_type": "code",
   "execution_count": 64,
   "id": "da6da26f",
   "metadata": {},
   "outputs": [
    {
     "data": {
      "text/plain": [
       "array([1, 0, 0, 1, 1, 0, 0, 1, 0, 0, 1, 0, 0, 1, 1, 1, 1, 0, 1, 0, 0, 0,\n",
       "       1, 1, 0, 1, 1, 1, 1, 1, 1, 0, 1, 1, 1, 1, 1, 1, 0, 1, 0, 0, 0, 0,\n",
       "       1, 0, 0, 1, 1, 0, 0, 1, 1, 1, 0, 0, 0, 1, 1, 0, 0, 0, 0, 0, 1, 0,\n",
       "       1, 1, 0, 1, 1, 0, 0, 1, 0, 0, 1, 1, 1, 1, 1, 1, 0, 1, 0, 0, 0, 1,\n",
       "       1, 0, 0, 0, 1, 1, 1, 1, 1, 1, 0, 1, 1, 0, 1, 1, 0, 0, 0, 0, 0, 1,\n",
       "       0, 1, 0, 1, 1, 1, 0, 1, 1, 1, 1, 0, 0, 1, 1, 1, 1, 1, 0, 0, 1, 1,\n",
       "       0, 0, 0, 0, 0, 1, 0, 0, 1, 0, 0, 0, 1, 1, 0, 1, 0, 0, 0, 0, 0, 0,\n",
       "       1, 1, 0, 0, 0, 0, 1, 1, 1, 1, 0, 1, 1, 1, 1, 1, 0, 0, 0, 0, 1, 0,\n",
       "       0, 0, 0, 1, 1, 0, 1, 1, 0, 1, 0, 0, 0, 0, 0, 0, 0, 1, 0, 0, 1, 1,\n",
       "       0, 0])"
      ]
     },
     "execution_count": 64,
     "metadata": {},
     "output_type": "execute_result"
    }
   ],
   "source": [
    "from sklearn.ensemble import RandomForestClassifier\n",
    "\n",
    "RF = RandomForestClassifier()\n",
    "RF_Model = RF.fit(X_train,y_train)\n",
    "RF_pred = RF.predict(X_test)\n",
    "RF_pred"
   ]
  },
  {
   "cell_type": "code",
   "execution_count": 65,
   "id": "223925a4",
   "metadata": {},
   "outputs": [
    {
     "name": "stdout",
     "output_type": "stream",
     "text": [
      "              precision    recall  f1-score   support\n",
      "\n",
      "           0       0.46      0.51      0.48        90\n",
      "           1       0.56      0.50      0.53       110\n",
      "\n",
      "    accuracy                           0.51       200\n",
      "   macro avg       0.51      0.51      0.50       200\n",
      "weighted avg       0.51      0.51      0.51       200\n",
      "\n"
     ]
    }
   ],
   "source": [
    "report = classification_report(y_test, RF_pred)\n",
    "print(report)"
   ]
  },
  {
   "cell_type": "code",
   "execution_count": 45,
   "id": "f5e75fcd",
   "metadata": {},
   "outputs": [],
   "source": [
    "from sklearn.model_selection import GridSearchCV, train_test_split\n",
    "from sklearn.metrics import accuracy_score"
   ]
  },
  {
   "cell_type": "code",
   "execution_count": 17,
   "id": "33d51b29",
   "metadata": {},
   "outputs": [
    {
     "name": "stdout",
     "output_type": "stream",
     "text": [
      "Best Hyperparameters: {'max_depth': 20, 'min_samples_leaf': 4, 'min_samples_split': 5, 'n_estimators': 20}\n",
      "Accuracy of the Best Model: 0.42\n"
     ]
    }
   ],
   "source": [
    "rf_model = RandomForestClassifier()\n",
    "\n",
    "param_grid = {\n",
    "    'n_estimators':[20,60,80,100,150],\n",
    "    'max_depth': [None, 5 ,10, 20],\n",
    "    'min_samples_split': [2, 5, 10],\n",
    "    'min_samples_leaf': [1, 2, 4]\n",
    "}\n",
    "\n",
    "grid_search = GridSearchCV(estimator=rf_model, param_grid=param_grid, cv=3, scoring='accuracy', n_jobs=-1)\n",
    "grid_search.fit(X_train, y_train)\n",
    "\n",
    "# Get the best hyperparameters\n",
    "best_params = grid_search.best_params_\n",
    "print(\"Best Hyperparameters:\", best_params)\n",
    "\n",
    "# Use the best model to make predictions on the test data\n",
    "best_model = grid_search.best_estimator_\n",
    "predictions = best_model.predict(X_test)\n",
    "\n",
    "# Evaluate the accuracy of the best model\n",
    "accuracy = accuracy_score(y_test, predictions)\n",
    "print(f\"Accuracy of the Best Model: {accuracy}\")"
   ]
  },
  {
   "cell_type": "code",
   "execution_count": 66,
   "id": "dfe49b35",
   "metadata": {},
   "outputs": [
    {
     "data": {
      "text/plain": [
       "array([1, 0, 0, 1, 0, 0, 0, 1, 0, 0, 0, 0, 1, 1, 1, 1, 1, 0, 0, 0, 0, 1,\n",
       "       1, 1, 1, 1, 1, 0, 1, 1, 1, 0, 1, 1, 1, 1, 1, 1, 0, 0, 0, 0, 0, 0,\n",
       "       1, 0, 0, 1, 1, 0, 0, 1, 1, 1, 0, 0, 1, 0, 1, 0, 0, 0, 0, 0, 0, 0,\n",
       "       1, 1, 0, 0, 1, 0, 0, 0, 0, 1, 1, 0, 1, 1, 1, 1, 0, 1, 0, 0, 1, 1,\n",
       "       1, 1, 1, 1, 1, 1, 1, 1, 1, 0, 1, 1, 1, 0, 1, 1, 0, 0, 0, 1, 0, 0,\n",
       "       1, 1, 0, 0, 0, 1, 1, 1, 1, 1, 1, 0, 0, 1, 1, 0, 0, 0, 0, 0, 1, 1,\n",
       "       0, 0, 0, 0, 0, 0, 0, 0, 0, 0, 0, 0, 1, 1, 0, 0, 0, 0, 0, 0, 0, 0,\n",
       "       1, 1, 1, 1, 0, 0, 1, 1, 1, 1, 0, 1, 1, 0, 0, 1, 0, 0, 0, 0, 0, 0,\n",
       "       0, 0, 0, 0, 0, 0, 0, 0, 1, 1, 0, 0, 1, 0, 0, 0, 0, 1, 0, 0, 1, 1,\n",
       "       1, 1])"
      ]
     },
     "execution_count": 66,
     "metadata": {},
     "output_type": "execute_result"
    }
   ],
   "source": [
    "RF = RandomForestClassifier(n_estimators = 20, min_samples_leaf = 4, min_samples_split = 5)\n",
    "RF_Model = RF.fit(X_train,y_train)\n",
    "RF_pred = RF.predict(X_test)\n",
    "RF_pred"
   ]
  },
  {
   "cell_type": "code",
   "execution_count": 67,
   "id": "ecbade56",
   "metadata": {},
   "outputs": [
    {
     "name": "stdout",
     "output_type": "stream",
     "text": [
      "              precision    recall  f1-score   support\n",
      "\n",
      "           0       0.41      0.50      0.45        90\n",
      "           1       0.51      0.42      0.46       110\n",
      "\n",
      "    accuracy                           0.46       200\n",
      "   macro avg       0.46      0.46      0.45       200\n",
      "weighted avg       0.46      0.46      0.46       200\n",
      "\n"
     ]
    }
   ],
   "source": [
    "report = classification_report(y_test, RF_pred)\n",
    "print(report)"
   ]
  },
  {
   "cell_type": "code",
   "execution_count": 52,
   "id": "ea84b0fa",
   "metadata": {},
   "outputs": [
    {
     "data": {
      "text/plain": [
       "array([0, 0, 0, 0, 1, 1, 1, 1, 1, 1, 1, 1, 1, 1, 0, 1, 1, 1, 1, 1, 0, 0,\n",
       "       0, 0, 0, 0, 0, 0, 0, 0, 0, 0, 0, 0, 0, 0, 0, 0, 0, 0, 0, 0, 0, 0,\n",
       "       0, 0, 0, 0, 0, 0, 0, 0, 0, 0, 0, 0, 0, 0, 0, 0, 0, 0, 0, 0, 1, 0,\n",
       "       0, 0, 0, 0, 0, 0, 0, 0, 0, 0, 0, 0, 0, 0, 0, 0, 0, 0, 0, 1, 0, 0,\n",
       "       0, 0, 0, 0, 1, 1, 1, 1, 1, 1, 1, 1, 1, 0, 0, 1, 1, 0, 1, 1, 1, 0,\n",
       "       1, 0, 1, 1, 1, 1, 1, 1, 1, 0, 0, 1, 1, 1, 1, 1, 0, 1, 0, 1, 1, 1,\n",
       "       1, 1, 0, 0, 0, 0, 0, 0, 0, 1, 0, 0, 0, 0, 0, 0, 0, 0, 0, 1, 1, 1,\n",
       "       0, 1, 1, 1, 0, 0, 0, 0, 1, 1, 1, 1, 1, 1, 0, 1, 0, 0, 0, 1, 0, 0,\n",
       "       1, 1, 1, 0, 0, 0, 0, 0, 1, 0, 0, 1, 1, 1, 1, 1, 1, 1, 1, 1, 1, 1,\n",
       "       0, 0, 0, 0, 0, 0, 0, 0, 0, 0, 0, 0, 0, 0, 0, 0, 1, 1, 1, 1, 1, 1,\n",
       "       1, 1, 0, 0, 0, 0, 0, 0, 0, 0, 0, 0, 0, 0, 0, 0, 0, 0, 0, 0, 0, 0,\n",
       "       0, 0, 0, 0, 0, 0, 0, 0, 0, 0, 0, 0, 0, 0, 0, 0, 0, 0, 0, 0, 0, 0,\n",
       "       0, 0, 0, 0, 0, 0, 0, 0, 0, 0, 0, 0, 0, 0, 0, 0, 0, 0, 0, 0, 0, 0,\n",
       "       0, 0, 0, 0, 0, 0, 0, 0, 0, 0, 0, 0, 0, 0])"
      ]
     },
     "execution_count": 52,
     "metadata": {},
     "output_type": "execute_result"
    }
   ],
   "source": [
    "from sklearn.ensemble import AdaBoostClassifier\n",
    "\n",
    "AB = AdaBoostClassifier()\n",
    "AB_Model = RF.fit(X_train,y_train)\n",
    "AB_pred = RF.predict(X_test)\n",
    "AB_pred"
   ]
  },
  {
   "cell_type": "code",
   "execution_count": 76,
   "id": "9424f3f6",
   "metadata": {},
   "outputs": [
    {
     "name": "stdout",
     "output_type": "stream",
     "text": [
      "              precision    recall  f1-score   support\n",
      "\n",
      "           0       0.48      0.98      0.65        95\n",
      "           1       0.75      0.06      0.11       105\n",
      "\n",
      "    accuracy                           0.49       200\n",
      "   macro avg       0.62      0.52      0.38       200\n",
      "weighted avg       0.62      0.49      0.36       200\n",
      "\n"
     ]
    }
   ],
   "source": [
    "report = classification_report(y_test, AB_pred)\n",
    "print(report)"
   ]
  },
  {
   "cell_type": "code",
   "execution_count": 68,
   "id": "65b09ca3",
   "metadata": {},
   "outputs": [],
   "source": [
    "## PWR"
   ]
  },
  {
   "cell_type": "code",
   "execution_count": 70,
   "id": "245e90a1",
   "metadata": {},
   "outputs": [
    {
     "data": {
      "text/html": [
       "<div>\n",
       "<style scoped>\n",
       "    .dataframe tbody tr th:only-of-type {\n",
       "        vertical-align: middle;\n",
       "    }\n",
       "\n",
       "    .dataframe tbody tr th {\n",
       "        vertical-align: top;\n",
       "    }\n",
       "\n",
       "    .dataframe thead th {\n",
       "        text-align: right;\n",
       "    }\n",
       "</style>\n",
       "<table border=\"1\" class=\"dataframe\">\n",
       "  <thead>\n",
       "    <tr style=\"text-align: right;\">\n",
       "      <th></th>\n",
       "      <th>Open</th>\n",
       "      <th>High</th>\n",
       "      <th>Low</th>\n",
       "      <th>Close</th>\n",
       "      <th>Volume</th>\n",
       "      <th>Dividends</th>\n",
       "      <th>Stock Splits</th>\n",
       "    </tr>\n",
       "    <tr>\n",
       "      <th>Date</th>\n",
       "      <th></th>\n",
       "      <th></th>\n",
       "      <th></th>\n",
       "      <th></th>\n",
       "      <th></th>\n",
       "      <th></th>\n",
       "      <th></th>\n",
       "    </tr>\n",
       "  </thead>\n",
       "  <tbody>\n",
       "    <tr>\n",
       "      <th>2004-02-23 00:00:00-05:00</th>\n",
       "      <td>8.584274</td>\n",
       "      <td>8.633439</td>\n",
       "      <td>8.417112</td>\n",
       "      <td>8.456445</td>\n",
       "      <td>330200</td>\n",
       "      <td>0.0</td>\n",
       "      <td>0.0</td>\n",
       "    </tr>\n",
       "    <tr>\n",
       "      <th>2004-02-24 00:00:00-05:00</th>\n",
       "      <td>8.358115</td>\n",
       "      <td>8.594109</td>\n",
       "      <td>8.190953</td>\n",
       "      <td>8.289284</td>\n",
       "      <td>537200</td>\n",
       "      <td>0.0</td>\n",
       "      <td>0.0</td>\n",
       "    </tr>\n",
       "    <tr>\n",
       "      <th>2004-02-25 00:00:00-05:00</th>\n",
       "      <td>8.249949</td>\n",
       "      <td>8.466276</td>\n",
       "      <td>8.072954</td>\n",
       "      <td>8.466276</td>\n",
       "      <td>496400</td>\n",
       "      <td>0.0</td>\n",
       "      <td>0.0</td>\n",
       "    </tr>\n",
       "    <tr>\n",
       "      <th>2004-02-26 00:00:00-05:00</th>\n",
       "      <td>8.466277</td>\n",
       "      <td>8.485944</td>\n",
       "      <td>7.709131</td>\n",
       "      <td>8.436778</td>\n",
       "      <td>2063400</td>\n",
       "      <td>0.0</td>\n",
       "      <td>0.0</td>\n",
       "    </tr>\n",
       "    <tr>\n",
       "      <th>2004-02-27 00:00:00-05:00</th>\n",
       "      <td>8.318781</td>\n",
       "      <td>8.456445</td>\n",
       "      <td>8.269616</td>\n",
       "      <td>8.456445</td>\n",
       "      <td>804000</td>\n",
       "      <td>0.0</td>\n",
       "      <td>0.0</td>\n",
       "    </tr>\n",
       "  </tbody>\n",
       "</table>\n",
       "</div>"
      ],
      "text/plain": [
       "                               Open      High       Low     Close   Volume  \\\n",
       "Date                                                                         \n",
       "2004-02-23 00:00:00-05:00  8.584274  8.633439  8.417112  8.456445   330200   \n",
       "2004-02-24 00:00:00-05:00  8.358115  8.594109  8.190953  8.289284   537200   \n",
       "2004-02-25 00:00:00-05:00  8.249949  8.466276  8.072954  8.466276   496400   \n",
       "2004-02-26 00:00:00-05:00  8.466277  8.485944  7.709131  8.436778  2063400   \n",
       "2004-02-27 00:00:00-05:00  8.318781  8.456445  8.269616  8.456445   804000   \n",
       "\n",
       "                           Dividends  Stock Splits  \n",
       "Date                                                \n",
       "2004-02-23 00:00:00-05:00        0.0           0.0  \n",
       "2004-02-24 00:00:00-05:00        0.0           0.0  \n",
       "2004-02-25 00:00:00-05:00        0.0           0.0  \n",
       "2004-02-26 00:00:00-05:00        0.0           0.0  \n",
       "2004-02-27 00:00:00-05:00        0.0           0.0  "
      ]
     },
     "execution_count": 70,
     "metadata": {},
     "output_type": "execute_result"
    }
   ],
   "source": [
    "Stock = yf.Ticker(\"PWR\")\n",
    "df = Stock.history(period = '20y')\n",
    "df.head()"
   ]
  },
  {
   "cell_type": "code",
   "execution_count": 71,
   "id": "c53405ac",
   "metadata": {},
   "outputs": [
    {
     "data": {
      "text/html": [
       "<div>\n",
       "<style scoped>\n",
       "    .dataframe tbody tr th:only-of-type {\n",
       "        vertical-align: middle;\n",
       "    }\n",
       "\n",
       "    .dataframe tbody tr th {\n",
       "        vertical-align: top;\n",
       "    }\n",
       "\n",
       "    .dataframe thead th {\n",
       "        text-align: right;\n",
       "    }\n",
       "</style>\n",
       "<table border=\"1\" class=\"dataframe\">\n",
       "  <thead>\n",
       "    <tr style=\"text-align: right;\">\n",
       "      <th></th>\n",
       "      <th>Open</th>\n",
       "      <th>High</th>\n",
       "      <th>Low</th>\n",
       "      <th>Close</th>\n",
       "      <th>Volume</th>\n",
       "      <th>Next Day Price</th>\n",
       "      <th>Target</th>\n",
       "    </tr>\n",
       "    <tr>\n",
       "      <th>Date</th>\n",
       "      <th></th>\n",
       "      <th></th>\n",
       "      <th></th>\n",
       "      <th></th>\n",
       "      <th></th>\n",
       "      <th></th>\n",
       "      <th></th>\n",
       "    </tr>\n",
       "  </thead>\n",
       "  <tbody>\n",
       "    <tr>\n",
       "      <th>2004-02-23 00:00:00-05:00</th>\n",
       "      <td>8.584274</td>\n",
       "      <td>8.633439</td>\n",
       "      <td>8.417112</td>\n",
       "      <td>8.456445</td>\n",
       "      <td>330200</td>\n",
       "      <td>8.289284</td>\n",
       "      <td>0</td>\n",
       "    </tr>\n",
       "    <tr>\n",
       "      <th>2004-02-24 00:00:00-05:00</th>\n",
       "      <td>8.358115</td>\n",
       "      <td>8.594109</td>\n",
       "      <td>8.190953</td>\n",
       "      <td>8.289284</td>\n",
       "      <td>537200</td>\n",
       "      <td>8.466276</td>\n",
       "      <td>1</td>\n",
       "    </tr>\n",
       "    <tr>\n",
       "      <th>2004-02-25 00:00:00-05:00</th>\n",
       "      <td>8.249949</td>\n",
       "      <td>8.466276</td>\n",
       "      <td>8.072954</td>\n",
       "      <td>8.466276</td>\n",
       "      <td>496400</td>\n",
       "      <td>8.436778</td>\n",
       "      <td>0</td>\n",
       "    </tr>\n",
       "    <tr>\n",
       "      <th>2004-02-26 00:00:00-05:00</th>\n",
       "      <td>8.466277</td>\n",
       "      <td>8.485944</td>\n",
       "      <td>7.709131</td>\n",
       "      <td>8.436778</td>\n",
       "      <td>2063400</td>\n",
       "      <td>8.456445</td>\n",
       "      <td>1</td>\n",
       "    </tr>\n",
       "    <tr>\n",
       "      <th>2004-02-27 00:00:00-05:00</th>\n",
       "      <td>8.318781</td>\n",
       "      <td>8.456445</td>\n",
       "      <td>8.269616</td>\n",
       "      <td>8.456445</td>\n",
       "      <td>804000</td>\n",
       "      <td>8.485943</td>\n",
       "      <td>1</td>\n",
       "    </tr>\n",
       "  </tbody>\n",
       "</table>\n",
       "</div>"
      ],
      "text/plain": [
       "                               Open      High       Low     Close   Volume  \\\n",
       "Date                                                                         \n",
       "2004-02-23 00:00:00-05:00  8.584274  8.633439  8.417112  8.456445   330200   \n",
       "2004-02-24 00:00:00-05:00  8.358115  8.594109  8.190953  8.289284   537200   \n",
       "2004-02-25 00:00:00-05:00  8.249949  8.466276  8.072954  8.466276   496400   \n",
       "2004-02-26 00:00:00-05:00  8.466277  8.485944  7.709131  8.436778  2063400   \n",
       "2004-02-27 00:00:00-05:00  8.318781  8.456445  8.269616  8.456445   804000   \n",
       "\n",
       "                           Next Day Price  Target  \n",
       "Date                                               \n",
       "2004-02-23 00:00:00-05:00        8.289284       0  \n",
       "2004-02-24 00:00:00-05:00        8.466276       1  \n",
       "2004-02-25 00:00:00-05:00        8.436778       0  \n",
       "2004-02-26 00:00:00-05:00        8.456445       1  \n",
       "2004-02-27 00:00:00-05:00        8.485943       1  "
      ]
     },
     "execution_count": 71,
     "metadata": {},
     "output_type": "execute_result"
    }
   ],
   "source": [
    "df.drop(['Dividends', 'Stock Splits'], axis = 1, inplace = True)\n",
    "df['Next Day Price'] = df['Close'].shift(-1)\n",
    "df['Target'] = (df['Next Day Price'] > df['Close']).astype(int)\n",
    "df.head()"
   ]
  },
  {
   "cell_type": "code",
   "execution_count": 72,
   "id": "057d1305",
   "metadata": {},
   "outputs": [],
   "source": [
    "train = df.iloc[:-200]\n",
    "test = df.iloc[-200:]\n",
    "\n",
    "X_train = train[['Close']]\n",
    "y_train = train[['Target']]\n",
    "X_test = test[['Close']]\n",
    "y_test = test[['Target']]"
   ]
  },
  {
   "cell_type": "code",
   "execution_count": 73,
   "id": "a4edb684",
   "metadata": {},
   "outputs": [
    {
     "data": {
      "text/plain": [
       "array([0, 1, 0, 0, 0, 0, 0, 0, 0, 0, 0, 0, 0, 0, 0, 0, 0, 0, 0, 0, 0, 0,\n",
       "       0, 0, 0, 0, 0, 0, 0, 0, 0, 0, 0, 0, 0, 0, 0, 0, 0, 0, 0, 0, 0, 0,\n",
       "       0, 0, 0, 0, 0, 0, 0, 0, 0, 0, 0, 0, 0, 0, 0, 0, 0, 0, 0, 0, 0, 0,\n",
       "       0, 0, 0, 0, 0, 0, 0, 0, 0, 0, 0, 0, 0, 0, 0, 0, 0, 0, 0, 0, 0, 0,\n",
       "       0, 0, 0, 0, 0, 0, 0, 0, 0, 0, 0, 0, 0, 0, 0, 0, 0, 0, 0, 0, 0, 0,\n",
       "       0, 0, 0, 0, 0, 1, 1, 0, 0, 0, 0, 1, 1, 0, 0, 0, 0, 0, 1, 0, 0, 0,\n",
       "       0, 0, 0, 0, 0, 0, 0, 0, 0, 0, 0, 0, 0, 0, 0, 0, 0, 0, 0, 0, 0, 0,\n",
       "       0, 0, 0, 0, 0, 0, 0, 0, 0, 0, 0, 0, 0, 0, 0, 0, 0, 0, 0, 0, 0, 0,\n",
       "       0, 0, 0, 0, 0, 0, 0, 0, 0, 0, 0, 0, 0, 0, 0, 0, 0, 0, 0, 0, 0, 0,\n",
       "       0, 0])"
      ]
     },
     "execution_count": 73,
     "metadata": {},
     "output_type": "execute_result"
    }
   ],
   "source": [
    "from sklearn.tree import DecisionTreeClassifier\n",
    "\n",
    "DT = DecisionTreeClassifier()\n",
    "D_Model = DT.fit(X_train,y_train)\n",
    "DT_pred = DT.predict(X_test)\n",
    "DT_pred"
   ]
  },
  {
   "cell_type": "code",
   "execution_count": 74,
   "id": "bcb5bfae",
   "metadata": {},
   "outputs": [
    {
     "name": "stdout",
     "output_type": "stream",
     "text": [
      "              precision    recall  f1-score   support\n",
      "\n",
      "           0       0.48      0.98      0.64        95\n",
      "           1       0.67      0.04      0.07       105\n",
      "\n",
      "    accuracy                           0.48       200\n",
      "   macro avg       0.57      0.51      0.36       200\n",
      "weighted avg       0.58      0.48      0.34       200\n",
      "\n"
     ]
    }
   ],
   "source": [
    "report = classification_report(y_test, DT_pred)\n",
    "print(report)"
   ]
  },
  {
   "cell_type": "code",
   "execution_count": 77,
   "id": "d119e9aa",
   "metadata": {},
   "outputs": [
    {
     "data": {
      "text/plain": [
       "array([0, 0, 0, 0, 0, 0, 0, 0, 0, 0, 0, 0, 1, 1, 0, 0, 0, 0, 0, 0, 0, 0,\n",
       "       0, 0, 0, 0, 0, 0, 0, 0, 0, 0, 0, 0, 0, 0, 0, 0, 0, 0, 0, 0, 0, 0,\n",
       "       0, 0, 0, 0, 0, 0, 0, 0, 0, 0, 0, 0, 0, 0, 0, 0, 0, 0, 0, 0, 0, 0,\n",
       "       0, 0, 0, 0, 0, 0, 0, 0, 0, 0, 0, 0, 0, 0, 0, 0, 0, 0, 0, 0, 0, 0,\n",
       "       0, 0, 0, 0, 0, 0, 0, 0, 0, 0, 0, 0, 0, 0, 0, 0, 0, 0, 0, 0, 0, 0,\n",
       "       0, 0, 0, 0, 0, 0, 1, 1, 0, 0, 0, 1, 1, 0, 0, 0, 0, 0, 1, 0, 0, 0,\n",
       "       0, 0, 0, 0, 0, 0, 0, 0, 0, 0, 0, 0, 0, 0, 0, 0, 0, 0, 0, 0, 0, 0,\n",
       "       0, 0, 0, 0, 0, 0, 0, 0, 0, 0, 0, 0, 0, 0, 0, 0, 0, 0, 0, 0, 0, 0,\n",
       "       0, 0, 0, 0, 0, 0, 0, 0, 0, 0, 0, 0, 0, 0, 0, 0, 0, 0, 0, 0, 0, 0,\n",
       "       0, 0])"
      ]
     },
     "execution_count": 77,
     "metadata": {},
     "output_type": "execute_result"
    }
   ],
   "source": [
    "from sklearn.ensemble import AdaBoostClassifier\n",
    "\n",
    "AB = AdaBoostClassifier()\n",
    "AB_Model = RF.fit(X_train,y_train)\n",
    "AB_pred = RF.predict(X_test)\n",
    "AB_pred"
   ]
  },
  {
   "cell_type": "code",
   "execution_count": 78,
   "id": "3140e890",
   "metadata": {},
   "outputs": [
    {
     "name": "stdout",
     "output_type": "stream",
     "text": [
      "              precision    recall  f1-score   support\n",
      "\n",
      "           0       0.48      0.98      0.65        95\n",
      "           1       0.71      0.05      0.09       105\n",
      "\n",
      "    accuracy                           0.49       200\n",
      "   macro avg       0.60      0.51      0.37       200\n",
      "weighted avg       0.60      0.49      0.35       200\n",
      "\n"
     ]
    }
   ],
   "source": [
    "report = classification_report(y_test, AB_pred)\n",
    "print(report)"
   ]
  },
  {
   "cell_type": "markdown",
   "id": "e293848e",
   "metadata": {},
   "source": [
    "# PANW"
   ]
  },
  {
   "cell_type": "code",
   "execution_count": 9,
   "id": "82529c5a",
   "metadata": {},
   "outputs": [
    {
     "data": {
      "text/html": [
       "<div>\n",
       "<style scoped>\n",
       "    .dataframe tbody tr th:only-of-type {\n",
       "        vertical-align: middle;\n",
       "    }\n",
       "\n",
       "    .dataframe tbody tr th {\n",
       "        vertical-align: top;\n",
       "    }\n",
       "\n",
       "    .dataframe thead th {\n",
       "        text-align: right;\n",
       "    }\n",
       "</style>\n",
       "<table border=\"1\" class=\"dataframe\">\n",
       "  <thead>\n",
       "    <tr style=\"text-align: right;\">\n",
       "      <th></th>\n",
       "      <th>Open</th>\n",
       "      <th>High</th>\n",
       "      <th>Low</th>\n",
       "      <th>Close</th>\n",
       "      <th>Volume</th>\n",
       "      <th>Dividends</th>\n",
       "      <th>Stock Splits</th>\n",
       "    </tr>\n",
       "    <tr>\n",
       "      <th>Date</th>\n",
       "      <th></th>\n",
       "      <th></th>\n",
       "      <th></th>\n",
       "      <th></th>\n",
       "      <th></th>\n",
       "      <th></th>\n",
       "      <th></th>\n",
       "    </tr>\n",
       "  </thead>\n",
       "  <tbody>\n",
       "    <tr>\n",
       "      <th>2012-07-20 00:00:00-04:00</th>\n",
       "      <td>18.383333</td>\n",
       "      <td>20.690001</td>\n",
       "      <td>17.700001</td>\n",
       "      <td>17.709999</td>\n",
       "      <td>21048300</td>\n",
       "      <td>0.0</td>\n",
       "      <td>0.0</td>\n",
       "    </tr>\n",
       "    <tr>\n",
       "      <th>2012-07-23 00:00:00-04:00</th>\n",
       "      <td>17.533333</td>\n",
       "      <td>18.000000</td>\n",
       "      <td>17.033333</td>\n",
       "      <td>17.170000</td>\n",
       "      <td>2365200</td>\n",
       "      <td>0.0</td>\n",
       "      <td>0.0</td>\n",
       "    </tr>\n",
       "    <tr>\n",
       "      <th>2012-07-24 00:00:00-04:00</th>\n",
       "      <td>17.333332</td>\n",
       "      <td>18.666668</td>\n",
       "      <td>17.173332</td>\n",
       "      <td>18.500000</td>\n",
       "      <td>2150400</td>\n",
       "      <td>0.0</td>\n",
       "      <td>0.0</td>\n",
       "    </tr>\n",
       "    <tr>\n",
       "      <th>2012-07-25 00:00:00-04:00</th>\n",
       "      <td>18.833332</td>\n",
       "      <td>19.666668</td>\n",
       "      <td>18.433332</td>\n",
       "      <td>19.650000</td>\n",
       "      <td>1799100</td>\n",
       "      <td>0.0</td>\n",
       "      <td>0.0</td>\n",
       "    </tr>\n",
       "    <tr>\n",
       "      <th>2012-07-26 00:00:00-04:00</th>\n",
       "      <td>19.926666</td>\n",
       "      <td>20.616667</td>\n",
       "      <td>19.360001</td>\n",
       "      <td>19.959999</td>\n",
       "      <td>1283400</td>\n",
       "      <td>0.0</td>\n",
       "      <td>0.0</td>\n",
       "    </tr>\n",
       "  </tbody>\n",
       "</table>\n",
       "</div>"
      ],
      "text/plain": [
       "                                Open       High        Low      Close  \\\n",
       "Date                                                                    \n",
       "2012-07-20 00:00:00-04:00  18.383333  20.690001  17.700001  17.709999   \n",
       "2012-07-23 00:00:00-04:00  17.533333  18.000000  17.033333  17.170000   \n",
       "2012-07-24 00:00:00-04:00  17.333332  18.666668  17.173332  18.500000   \n",
       "2012-07-25 00:00:00-04:00  18.833332  19.666668  18.433332  19.650000   \n",
       "2012-07-26 00:00:00-04:00  19.926666  20.616667  19.360001  19.959999   \n",
       "\n",
       "                             Volume  Dividends  Stock Splits  \n",
       "Date                                                          \n",
       "2012-07-20 00:00:00-04:00  21048300        0.0           0.0  \n",
       "2012-07-23 00:00:00-04:00   2365200        0.0           0.0  \n",
       "2012-07-24 00:00:00-04:00   2150400        0.0           0.0  \n",
       "2012-07-25 00:00:00-04:00   1799100        0.0           0.0  \n",
       "2012-07-26 00:00:00-04:00   1283400        0.0           0.0  "
      ]
     },
     "execution_count": 9,
     "metadata": {},
     "output_type": "execute_result"
    }
   ],
   "source": [
    "Stock = yf.Ticker(\"PANW\")\n",
    "df = Stock.history(period = '20y')\n",
    "df.head()"
   ]
  },
  {
   "cell_type": "code",
   "execution_count": 10,
   "id": "541dda06",
   "metadata": {},
   "outputs": [
    {
     "data": {
      "text/html": [
       "<div>\n",
       "<style scoped>\n",
       "    .dataframe tbody tr th:only-of-type {\n",
       "        vertical-align: middle;\n",
       "    }\n",
       "\n",
       "    .dataframe tbody tr th {\n",
       "        vertical-align: top;\n",
       "    }\n",
       "\n",
       "    .dataframe thead th {\n",
       "        text-align: right;\n",
       "    }\n",
       "</style>\n",
       "<table border=\"1\" class=\"dataframe\">\n",
       "  <thead>\n",
       "    <tr style=\"text-align: right;\">\n",
       "      <th></th>\n",
       "      <th>Open</th>\n",
       "      <th>High</th>\n",
       "      <th>Low</th>\n",
       "      <th>Close</th>\n",
       "      <th>Volume</th>\n",
       "      <th>Next Day Price</th>\n",
       "      <th>Target</th>\n",
       "    </tr>\n",
       "    <tr>\n",
       "      <th>Date</th>\n",
       "      <th></th>\n",
       "      <th></th>\n",
       "      <th></th>\n",
       "      <th></th>\n",
       "      <th></th>\n",
       "      <th></th>\n",
       "      <th></th>\n",
       "    </tr>\n",
       "  </thead>\n",
       "  <tbody>\n",
       "    <tr>\n",
       "      <th>2012-07-20 00:00:00-04:00</th>\n",
       "      <td>18.383333</td>\n",
       "      <td>20.690001</td>\n",
       "      <td>17.700001</td>\n",
       "      <td>17.709999</td>\n",
       "      <td>21048300</td>\n",
       "      <td>17.170000</td>\n",
       "      <td>0</td>\n",
       "    </tr>\n",
       "    <tr>\n",
       "      <th>2012-07-23 00:00:00-04:00</th>\n",
       "      <td>17.533333</td>\n",
       "      <td>18.000000</td>\n",
       "      <td>17.033333</td>\n",
       "      <td>17.170000</td>\n",
       "      <td>2365200</td>\n",
       "      <td>18.500000</td>\n",
       "      <td>1</td>\n",
       "    </tr>\n",
       "    <tr>\n",
       "      <th>2012-07-24 00:00:00-04:00</th>\n",
       "      <td>17.333332</td>\n",
       "      <td>18.666668</td>\n",
       "      <td>17.173332</td>\n",
       "      <td>18.500000</td>\n",
       "      <td>2150400</td>\n",
       "      <td>19.650000</td>\n",
       "      <td>1</td>\n",
       "    </tr>\n",
       "    <tr>\n",
       "      <th>2012-07-25 00:00:00-04:00</th>\n",
       "      <td>18.833332</td>\n",
       "      <td>19.666668</td>\n",
       "      <td>18.433332</td>\n",
       "      <td>19.650000</td>\n",
       "      <td>1799100</td>\n",
       "      <td>19.959999</td>\n",
       "      <td>1</td>\n",
       "    </tr>\n",
       "    <tr>\n",
       "      <th>2012-07-26 00:00:00-04:00</th>\n",
       "      <td>19.926666</td>\n",
       "      <td>20.616667</td>\n",
       "      <td>19.360001</td>\n",
       "      <td>19.959999</td>\n",
       "      <td>1283400</td>\n",
       "      <td>19.000000</td>\n",
       "      <td>0</td>\n",
       "    </tr>\n",
       "  </tbody>\n",
       "</table>\n",
       "</div>"
      ],
      "text/plain": [
       "                                Open       High        Low      Close  \\\n",
       "Date                                                                    \n",
       "2012-07-20 00:00:00-04:00  18.383333  20.690001  17.700001  17.709999   \n",
       "2012-07-23 00:00:00-04:00  17.533333  18.000000  17.033333  17.170000   \n",
       "2012-07-24 00:00:00-04:00  17.333332  18.666668  17.173332  18.500000   \n",
       "2012-07-25 00:00:00-04:00  18.833332  19.666668  18.433332  19.650000   \n",
       "2012-07-26 00:00:00-04:00  19.926666  20.616667  19.360001  19.959999   \n",
       "\n",
       "                             Volume  Next Day Price  Target  \n",
       "Date                                                         \n",
       "2012-07-20 00:00:00-04:00  21048300       17.170000       0  \n",
       "2012-07-23 00:00:00-04:00   2365200       18.500000       1  \n",
       "2012-07-24 00:00:00-04:00   2150400       19.650000       1  \n",
       "2012-07-25 00:00:00-04:00   1799100       19.959999       1  \n",
       "2012-07-26 00:00:00-04:00   1283400       19.000000       0  "
      ]
     },
     "execution_count": 10,
     "metadata": {},
     "output_type": "execute_result"
    }
   ],
   "source": [
    "df.drop(['Dividends', 'Stock Splits'], axis = 1, inplace = True)\n",
    "df['Next Day Price'] = df['Close'].shift(-1)\n",
    "df['Target'] = (df['Next Day Price'] > df['Close']).astype(int)\n",
    "df.head()"
   ]
  },
  {
   "cell_type": "code",
   "execution_count": 11,
   "id": "9dbd9fac",
   "metadata": {},
   "outputs": [],
   "source": [
    "train = df.iloc[:-200]\n",
    "test = df.iloc[-200:]\n",
    "\n",
    "X_train = train[['Close']]\n",
    "y_train = train[['Target']]\n",
    "X_test = test[['Close']]\n",
    "y_test = test[['Target']]"
   ]
  },
  {
   "cell_type": "code",
   "execution_count": 12,
   "id": "d2173df4",
   "metadata": {},
   "outputs": [
    {
     "name": "stdout",
     "output_type": "stream",
     "text": [
      "(2715, 1)\n",
      "(200, 1)\n",
      "(2715, 1)\n",
      "(200, 1)\n"
     ]
    }
   ],
   "source": [
    "print(X_train.shape)\n",
    "print(X_test.shape)\n",
    "print(y_train.shape)\n",
    "print(y_test.shape)"
   ]
  },
  {
   "cell_type": "code",
   "execution_count": 13,
   "id": "e763f954",
   "metadata": {},
   "outputs": [
    {
     "data": {
      "text/plain": [
       "array([0, 1, 0, 1, 0, 1, 1, 1, 1, 0, 0, 1, 0, 1, 0, 0, 0, 0, 0, 0, 0, 0,\n",
       "       0, 0, 0, 0, 0, 0, 0, 0, 0, 0, 0, 0, 0, 0, 0, 0, 0, 0, 0, 0, 0, 0,\n",
       "       0, 0, 0, 0, 0, 0, 0, 0, 0, 0, 0, 0, 0, 0, 0, 0, 0, 0, 0, 0, 0, 0,\n",
       "       0, 0, 0, 0, 0, 0, 0, 0, 0, 0, 0, 0, 0, 0, 0, 0, 0, 0, 0, 0, 0, 0,\n",
       "       0, 0, 0, 0, 0, 0, 0, 0, 0, 0, 0, 0, 0, 0, 0, 0, 0, 0, 0, 0, 0, 0,\n",
       "       0, 0, 0, 0, 0, 0, 0, 0, 0, 0, 0, 0, 0, 0, 0, 0, 0, 0, 0, 0, 0, 0,\n",
       "       0, 0, 0, 0, 0, 0, 0, 0, 0, 0, 0, 0, 0, 0, 0, 0, 0, 0, 0, 0, 0, 0,\n",
       "       0, 0, 0, 0, 0, 0, 0, 0, 0, 0, 0, 0, 0, 0, 0, 0, 0, 0, 0, 0, 0, 0,\n",
       "       0, 0, 0, 0, 0, 0, 0, 0, 0, 0, 0, 0, 0, 0, 0, 0, 0, 0, 0, 0, 0, 0,\n",
       "       0, 0])"
      ]
     },
     "execution_count": 13,
     "metadata": {},
     "output_type": "execute_result"
    }
   ],
   "source": [
    "from sklearn.tree import DecisionTreeClassifier\n",
    "\n",
    "DT = DecisionTreeClassifier()\n",
    "D_Model = DT.fit(X_train,y_train)\n",
    "DT_pred = DT.predict(X_test)\n",
    "DT_pred"
   ]
  },
  {
   "cell_type": "code",
   "execution_count": 15,
   "id": "5c6999ba",
   "metadata": {},
   "outputs": [
    {
     "name": "stdout",
     "output_type": "stream",
     "text": [
      "              precision    recall  f1-score   support\n",
      "\n",
      "           0       0.41      0.94      0.57        84\n",
      "           1       0.38      0.03      0.05       116\n",
      "\n",
      "    accuracy                           0.41       200\n",
      "   macro avg       0.39      0.48      0.31       200\n",
      "weighted avg       0.39      0.41      0.27       200\n",
      "\n"
     ]
    }
   ],
   "source": [
    "report = classification_report(y_test, DT_pred)\n",
    "print(report)"
   ]
  },
  {
   "cell_type": "code",
   "execution_count": 16,
   "id": "e67e7535",
   "metadata": {},
   "outputs": [],
   "source": [
    "from sklearn.model_selection import GridSearchCV, train_test_split\n",
    "from sklearn.metrics import accuracy_score"
   ]
  },
  {
   "cell_type": "code",
   "execution_count": 18,
   "id": "97649561",
   "metadata": {},
   "outputs": [
    {
     "name": "stdout",
     "output_type": "stream",
     "text": [
      "Best Hyperparameters: {'max_depth': 5, 'min_samples_leaf': 2, 'min_samples_split': 10, 'n_estimators': 20}\n",
      "Accuracy of the Best Model: 0.42\n"
     ]
    }
   ],
   "source": [
    "rf_model = RandomForestClassifier()\n",
    "\n",
    "param_grid = {\n",
    "    'n_estimators':[20,60,80,100,150],\n",
    "    'max_depth': [None, 5 ,10, 20],\n",
    "    'min_samples_split': [2, 5, 10],\n",
    "    'min_samples_leaf': [1, 2, 4]\n",
    "}\n",
    "\n",
    "grid_search = GridSearchCV(estimator=rf_model, param_grid=param_grid, cv=3, scoring='accuracy', n_jobs=-1)\n",
    "grid_search.fit(X_train, y_train)\n",
    "\n",
    "# Get the best hyperparameters\n",
    "best_params = grid_search.best_params_\n",
    "print(\"Best Hyperparameters:\", best_params)\n",
    "\n",
    "# Use the best model to make predictions on the test data\n",
    "best_model = grid_search.best_estimator_\n",
    "predictions = best_model.predict(X_test)\n",
    "\n",
    "# Evaluate the accuracy of the best model\n",
    "accuracy = accuracy_score(y_test, predictions)\n",
    "print(f\"Accuracy of the Best Model: {accuracy}\")"
   ]
  },
  {
   "cell_type": "code",
   "execution_count": 19,
   "id": "53b455d9",
   "metadata": {},
   "outputs": [
    {
     "data": {
      "text/plain": [
       "array([0, 1, 0, 0, 0, 0, 1, 1, 1, 0, 0, 1, 0, 1, 0, 0, 0, 0, 0, 0, 0, 0,\n",
       "       0, 0, 0, 0, 0, 0, 0, 0, 0, 0, 0, 0, 0, 0, 0, 0, 0, 0, 0, 0, 0, 0,\n",
       "       0, 0, 0, 0, 0, 0, 0, 0, 0, 0, 0, 0, 0, 0, 0, 0, 0, 0, 0, 0, 0, 0,\n",
       "       0, 0, 0, 0, 0, 0, 0, 0, 0, 0, 0, 0, 0, 0, 0, 0, 0, 0, 0, 0, 0, 0,\n",
       "       0, 0, 0, 0, 0, 0, 0, 0, 0, 0, 0, 0, 0, 0, 0, 0, 0, 0, 0, 0, 0, 0,\n",
       "       0, 0, 0, 0, 0, 0, 0, 0, 0, 0, 0, 0, 0, 0, 0, 0, 0, 0, 0, 0, 0, 0,\n",
       "       0, 0, 0, 0, 0, 0, 0, 0, 0, 0, 0, 0, 0, 0, 0, 0, 0, 0, 0, 0, 0, 0,\n",
       "       0, 0, 0, 0, 0, 0, 0, 0, 0, 0, 0, 0, 0, 0, 0, 0, 0, 0, 0, 0, 0, 0,\n",
       "       0, 0, 0, 0, 0, 0, 0, 0, 0, 0, 0, 0, 0, 0, 0, 0, 0, 0, 0, 0, 0, 0,\n",
       "       0, 0])"
      ]
     },
     "execution_count": 19,
     "metadata": {},
     "output_type": "execute_result"
    }
   ],
   "source": [
    "RF = RandomForestClassifier(n_estimators = 20, min_samples_leaf = 4, min_samples_split = 5)\n",
    "RF_Model = RF.fit(X_train,y_train)\n",
    "RF_pred = RF.predict(X_test)\n",
    "RF_pred"
   ]
  },
  {
   "cell_type": "code",
   "execution_count": 20,
   "id": "12173eb0",
   "metadata": {},
   "outputs": [
    {
     "name": "stdout",
     "output_type": "stream",
     "text": [
      "              precision    recall  f1-score   support\n",
      "\n",
      "           0       0.42      0.96      0.58        84\n",
      "           1       0.50      0.03      0.05       116\n",
      "\n",
      "    accuracy                           0.42       200\n",
      "   macro avg       0.46      0.50      0.32       200\n",
      "weighted avg       0.47      0.42      0.27       200\n",
      "\n"
     ]
    }
   ],
   "source": [
    "report = classification_report(y_test, RF_pred)\n",
    "print(report)"
   ]
  },
  {
   "cell_type": "code",
   "execution_count": 21,
   "id": "e45c4ddd",
   "metadata": {},
   "outputs": [
    {
     "data": {
      "text/plain": [
       "array([1, 1, 0, 0, 0, 0, 1, 1, 1, 0, 0, 1, 0, 1, 0, 0, 0, 0, 0, 0, 0, 0,\n",
       "       0, 0, 0, 0, 0, 0, 0, 0, 0, 0, 0, 0, 0, 0, 0, 0, 0, 0, 0, 0, 0, 0,\n",
       "       0, 0, 0, 0, 0, 0, 0, 0, 0, 0, 0, 0, 0, 0, 0, 0, 0, 0, 0, 0, 0, 0,\n",
       "       0, 0, 0, 0, 0, 0, 0, 0, 0, 0, 0, 0, 0, 0, 0, 0, 0, 0, 0, 0, 0, 0,\n",
       "       0, 0, 0, 0, 0, 0, 0, 0, 0, 0, 0, 0, 0, 0, 0, 0, 0, 0, 0, 0, 0, 0,\n",
       "       0, 0, 0, 0, 0, 0, 0, 0, 0, 0, 0, 0, 0, 0, 0, 0, 0, 0, 0, 0, 0, 0,\n",
       "       0, 0, 0, 0, 0, 0, 0, 0, 0, 0, 0, 0, 0, 0, 0, 0, 0, 0, 0, 0, 0, 0,\n",
       "       0, 0, 0, 0, 0, 0, 0, 0, 0, 0, 0, 0, 0, 0, 0, 0, 0, 0, 0, 0, 0, 0,\n",
       "       0, 0, 0, 0, 0, 0, 0, 0, 0, 0, 0, 0, 0, 0, 0, 0, 0, 0, 0, 0, 0, 0,\n",
       "       0, 0])"
      ]
     },
     "execution_count": 21,
     "metadata": {},
     "output_type": "execute_result"
    }
   ],
   "source": [
    "from sklearn.ensemble import AdaBoostClassifier\n",
    "\n",
    "AB = AdaBoostClassifier()\n",
    "AB_Model = RF.fit(X_train,y_train)\n",
    "AB_pred = RF.predict(X_test)\n",
    "AB_pred"
   ]
  },
  {
   "cell_type": "code",
   "execution_count": 22,
   "id": "48158310",
   "metadata": {},
   "outputs": [
    {
     "name": "stdout",
     "output_type": "stream",
     "text": [
      "              precision    recall  f1-score   support\n",
      "\n",
      "           0       0.42      0.96      0.58        84\n",
      "           1       0.57      0.03      0.07       116\n",
      "\n",
      "    accuracy                           0.42       200\n",
      "   macro avg       0.50      0.50      0.32       200\n",
      "weighted avg       0.51      0.42      0.28       200\n",
      "\n"
     ]
    }
   ],
   "source": [
    "report = classification_report(y_test, AB_pred)\n",
    "print(report)"
   ]
  },
  {
   "cell_type": "markdown",
   "id": "388dd99e",
   "metadata": {},
   "source": [
    "# TSLA"
   ]
  },
  {
   "cell_type": "code",
   "execution_count": 23,
   "id": "f9ec4341",
   "metadata": {},
   "outputs": [
    {
     "data": {
      "text/html": [
       "<div>\n",
       "<style scoped>\n",
       "    .dataframe tbody tr th:only-of-type {\n",
       "        vertical-align: middle;\n",
       "    }\n",
       "\n",
       "    .dataframe tbody tr th {\n",
       "        vertical-align: top;\n",
       "    }\n",
       "\n",
       "    .dataframe thead th {\n",
       "        text-align: right;\n",
       "    }\n",
       "</style>\n",
       "<table border=\"1\" class=\"dataframe\">\n",
       "  <thead>\n",
       "    <tr style=\"text-align: right;\">\n",
       "      <th></th>\n",
       "      <th>Open</th>\n",
       "      <th>High</th>\n",
       "      <th>Low</th>\n",
       "      <th>Close</th>\n",
       "      <th>Volume</th>\n",
       "      <th>Dividends</th>\n",
       "      <th>Stock Splits</th>\n",
       "    </tr>\n",
       "    <tr>\n",
       "      <th>Date</th>\n",
       "      <th></th>\n",
       "      <th></th>\n",
       "      <th></th>\n",
       "      <th></th>\n",
       "      <th></th>\n",
       "      <th></th>\n",
       "      <th></th>\n",
       "    </tr>\n",
       "  </thead>\n",
       "  <tbody>\n",
       "    <tr>\n",
       "      <th>2010-06-29 00:00:00-04:00</th>\n",
       "      <td>1.266667</td>\n",
       "      <td>1.666667</td>\n",
       "      <td>1.169333</td>\n",
       "      <td>1.592667</td>\n",
       "      <td>281494500</td>\n",
       "      <td>0.0</td>\n",
       "      <td>0.0</td>\n",
       "    </tr>\n",
       "    <tr>\n",
       "      <th>2010-06-30 00:00:00-04:00</th>\n",
       "      <td>1.719333</td>\n",
       "      <td>2.028000</td>\n",
       "      <td>1.553333</td>\n",
       "      <td>1.588667</td>\n",
       "      <td>257806500</td>\n",
       "      <td>0.0</td>\n",
       "      <td>0.0</td>\n",
       "    </tr>\n",
       "    <tr>\n",
       "      <th>2010-07-01 00:00:00-04:00</th>\n",
       "      <td>1.666667</td>\n",
       "      <td>1.728000</td>\n",
       "      <td>1.351333</td>\n",
       "      <td>1.464000</td>\n",
       "      <td>123282000</td>\n",
       "      <td>0.0</td>\n",
       "      <td>0.0</td>\n",
       "    </tr>\n",
       "    <tr>\n",
       "      <th>2010-07-02 00:00:00-04:00</th>\n",
       "      <td>1.533333</td>\n",
       "      <td>1.540000</td>\n",
       "      <td>1.247333</td>\n",
       "      <td>1.280000</td>\n",
       "      <td>77097000</td>\n",
       "      <td>0.0</td>\n",
       "      <td>0.0</td>\n",
       "    </tr>\n",
       "    <tr>\n",
       "      <th>2010-07-06 00:00:00-04:00</th>\n",
       "      <td>1.333333</td>\n",
       "      <td>1.333333</td>\n",
       "      <td>1.055333</td>\n",
       "      <td>1.074000</td>\n",
       "      <td>103003500</td>\n",
       "      <td>0.0</td>\n",
       "      <td>0.0</td>\n",
       "    </tr>\n",
       "  </tbody>\n",
       "</table>\n",
       "</div>"
      ],
      "text/plain": [
       "                               Open      High       Low     Close     Volume  \\\n",
       "Date                                                                           \n",
       "2010-06-29 00:00:00-04:00  1.266667  1.666667  1.169333  1.592667  281494500   \n",
       "2010-06-30 00:00:00-04:00  1.719333  2.028000  1.553333  1.588667  257806500   \n",
       "2010-07-01 00:00:00-04:00  1.666667  1.728000  1.351333  1.464000  123282000   \n",
       "2010-07-02 00:00:00-04:00  1.533333  1.540000  1.247333  1.280000   77097000   \n",
       "2010-07-06 00:00:00-04:00  1.333333  1.333333  1.055333  1.074000  103003500   \n",
       "\n",
       "                           Dividends  Stock Splits  \n",
       "Date                                                \n",
       "2010-06-29 00:00:00-04:00        0.0           0.0  \n",
       "2010-06-30 00:00:00-04:00        0.0           0.0  \n",
       "2010-07-01 00:00:00-04:00        0.0           0.0  \n",
       "2010-07-02 00:00:00-04:00        0.0           0.0  \n",
       "2010-07-06 00:00:00-04:00        0.0           0.0  "
      ]
     },
     "execution_count": 23,
     "metadata": {},
     "output_type": "execute_result"
    }
   ],
   "source": [
    "Stock = yf.Ticker(\"TSLA\")\n",
    "df = Stock.history(period = '20y')\n",
    "df.head()"
   ]
  },
  {
   "cell_type": "code",
   "execution_count": 24,
   "id": "2cfd9080",
   "metadata": {},
   "outputs": [
    {
     "data": {
      "text/html": [
       "<div>\n",
       "<style scoped>\n",
       "    .dataframe tbody tr th:only-of-type {\n",
       "        vertical-align: middle;\n",
       "    }\n",
       "\n",
       "    .dataframe tbody tr th {\n",
       "        vertical-align: top;\n",
       "    }\n",
       "\n",
       "    .dataframe thead th {\n",
       "        text-align: right;\n",
       "    }\n",
       "</style>\n",
       "<table border=\"1\" class=\"dataframe\">\n",
       "  <thead>\n",
       "    <tr style=\"text-align: right;\">\n",
       "      <th></th>\n",
       "      <th>Open</th>\n",
       "      <th>High</th>\n",
       "      <th>Low</th>\n",
       "      <th>Close</th>\n",
       "      <th>Volume</th>\n",
       "      <th>Next Day Price</th>\n",
       "      <th>Target</th>\n",
       "    </tr>\n",
       "    <tr>\n",
       "      <th>Date</th>\n",
       "      <th></th>\n",
       "      <th></th>\n",
       "      <th></th>\n",
       "      <th></th>\n",
       "      <th></th>\n",
       "      <th></th>\n",
       "      <th></th>\n",
       "    </tr>\n",
       "  </thead>\n",
       "  <tbody>\n",
       "    <tr>\n",
       "      <th>2010-06-29 00:00:00-04:00</th>\n",
       "      <td>1.266667</td>\n",
       "      <td>1.666667</td>\n",
       "      <td>1.169333</td>\n",
       "      <td>1.592667</td>\n",
       "      <td>281494500</td>\n",
       "      <td>1.588667</td>\n",
       "      <td>0</td>\n",
       "    </tr>\n",
       "    <tr>\n",
       "      <th>2010-06-30 00:00:00-04:00</th>\n",
       "      <td>1.719333</td>\n",
       "      <td>2.028000</td>\n",
       "      <td>1.553333</td>\n",
       "      <td>1.588667</td>\n",
       "      <td>257806500</td>\n",
       "      <td>1.464000</td>\n",
       "      <td>0</td>\n",
       "    </tr>\n",
       "    <tr>\n",
       "      <th>2010-07-01 00:00:00-04:00</th>\n",
       "      <td>1.666667</td>\n",
       "      <td>1.728000</td>\n",
       "      <td>1.351333</td>\n",
       "      <td>1.464000</td>\n",
       "      <td>123282000</td>\n",
       "      <td>1.280000</td>\n",
       "      <td>0</td>\n",
       "    </tr>\n",
       "    <tr>\n",
       "      <th>2010-07-02 00:00:00-04:00</th>\n",
       "      <td>1.533333</td>\n",
       "      <td>1.540000</td>\n",
       "      <td>1.247333</td>\n",
       "      <td>1.280000</td>\n",
       "      <td>77097000</td>\n",
       "      <td>1.074000</td>\n",
       "      <td>0</td>\n",
       "    </tr>\n",
       "    <tr>\n",
       "      <th>2010-07-06 00:00:00-04:00</th>\n",
       "      <td>1.333333</td>\n",
       "      <td>1.333333</td>\n",
       "      <td>1.055333</td>\n",
       "      <td>1.074000</td>\n",
       "      <td>103003500</td>\n",
       "      <td>1.053333</td>\n",
       "      <td>0</td>\n",
       "    </tr>\n",
       "  </tbody>\n",
       "</table>\n",
       "</div>"
      ],
      "text/plain": [
       "                               Open      High       Low     Close     Volume  \\\n",
       "Date                                                                           \n",
       "2010-06-29 00:00:00-04:00  1.266667  1.666667  1.169333  1.592667  281494500   \n",
       "2010-06-30 00:00:00-04:00  1.719333  2.028000  1.553333  1.588667  257806500   \n",
       "2010-07-01 00:00:00-04:00  1.666667  1.728000  1.351333  1.464000  123282000   \n",
       "2010-07-02 00:00:00-04:00  1.533333  1.540000  1.247333  1.280000   77097000   \n",
       "2010-07-06 00:00:00-04:00  1.333333  1.333333  1.055333  1.074000  103003500   \n",
       "\n",
       "                           Next Day Price  Target  \n",
       "Date                                               \n",
       "2010-06-29 00:00:00-04:00        1.588667       0  \n",
       "2010-06-30 00:00:00-04:00        1.464000       0  \n",
       "2010-07-01 00:00:00-04:00        1.280000       0  \n",
       "2010-07-02 00:00:00-04:00        1.074000       0  \n",
       "2010-07-06 00:00:00-04:00        1.053333       0  "
      ]
     },
     "execution_count": 24,
     "metadata": {},
     "output_type": "execute_result"
    }
   ],
   "source": [
    "df.drop(['Dividends', 'Stock Splits'], axis = 1, inplace = True)\n",
    "df['Next Day Price'] = df['Close'].shift(-1)\n",
    "df['Target'] = (df['Next Day Price'] > df['Close']).astype(int)\n",
    "df.head()"
   ]
  },
  {
   "cell_type": "code",
   "execution_count": 25,
   "id": "549b3751",
   "metadata": {},
   "outputs": [],
   "source": [
    "train = df.iloc[:-200]\n",
    "test = df.iloc[-200:]\n",
    "\n",
    "X_train = train[['Close']]\n",
    "y_train = train[['Target']]\n",
    "X_test = test[['Close']]\n",
    "y_test = test[['Target']]"
   ]
  },
  {
   "cell_type": "code",
   "execution_count": 26,
   "id": "7f5988ce",
   "metadata": {},
   "outputs": [
    {
     "name": "stdout",
     "output_type": "stream",
     "text": [
      "(3235, 1)\n",
      "(200, 1)\n",
      "(3235, 1)\n",
      "(200, 1)\n"
     ]
    }
   ],
   "source": [
    "print(X_train.shape)\n",
    "print(X_test.shape)\n",
    "print(y_train.shape)\n",
    "print(y_test.shape)"
   ]
  },
  {
   "cell_type": "code",
   "execution_count": 30,
   "id": "bb5d7328",
   "metadata": {},
   "outputs": [
    {
     "data": {
      "text/plain": [
       "array([1, 1, 1, 1, 1, 1, 0, 0, 1, 1, 1, 1, 0, 0, 1, 1, 0, 1, 0, 1, 1, 1,\n",
       "       0, 0, 1, 0, 1, 0, 1, 0, 1, 1, 0, 0, 0, 1, 0, 1, 1, 0, 1, 1, 1, 1,\n",
       "       1, 1, 0, 1, 0, 0, 0, 0, 1, 1, 0, 1, 1, 0, 1, 1, 0, 1, 0, 1, 0, 1,\n",
       "       1, 1, 0, 1, 1, 0, 1, 1, 0, 1, 1, 1, 1, 0, 0, 1, 1, 0, 1, 0, 1, 0,\n",
       "       1, 1, 1, 1, 0, 0, 0, 1, 0, 1, 1, 1, 1, 1, 0, 0, 1, 1, 0, 1, 0, 0,\n",
       "       1, 1, 0, 1, 1, 0, 1, 1, 1, 1, 0, 1, 1, 1, 0, 0, 0, 0, 0, 0, 1, 1,\n",
       "       1, 1, 1, 1, 0, 1, 1, 0, 1, 0, 1, 1, 1, 1, 1, 1, 0, 1, 1, 0, 0, 0,\n",
       "       1, 0, 1, 0, 0, 1, 1, 0, 1, 0, 1, 1, 1, 0, 1, 1, 0, 0, 1, 1, 0, 1,\n",
       "       1, 1, 0, 1, 0, 0, 1, 1, 0, 0, 1, 1, 1, 1, 1, 1, 1, 1, 0, 1, 1, 1,\n",
       "       0, 0])"
      ]
     },
     "execution_count": 30,
     "metadata": {},
     "output_type": "execute_result"
    }
   ],
   "source": [
    "from sklearn.tree import DecisionTreeClassifier\n",
    "\n",
    "DT = DecisionTreeClassifier()\n",
    "D_Model = DT.fit(X_train,y_train)\n",
    "DT_pred = DT.predict(X_test)\n",
    "DT_pred"
   ]
  },
  {
   "cell_type": "code",
   "execution_count": 31,
   "id": "aa670797",
   "metadata": {},
   "outputs": [
    {
     "name": "stdout",
     "output_type": "stream",
     "text": [
      "              precision    recall  f1-score   support\n",
      "\n",
      "           0       0.49      0.39      0.43        95\n",
      "           1       0.53      0.63      0.58       105\n",
      "\n",
      "    accuracy                           0.52       200\n",
      "   macro avg       0.51      0.51      0.50       200\n",
      "weighted avg       0.51      0.52      0.51       200\n",
      "\n"
     ]
    }
   ],
   "source": [
    "report = classification_report(y_test, DT_pred)\n",
    "print(report)"
   ]
  },
  {
   "cell_type": "code",
   "execution_count": 32,
   "id": "e1d0edd7",
   "metadata": {},
   "outputs": [],
   "source": [
    "from sklearn.model_selection import GridSearchCV, train_test_split\n",
    "from sklearn.metrics import accuracy_score"
   ]
  },
  {
   "cell_type": "code",
   "execution_count": 33,
   "id": "4fa22982",
   "metadata": {},
   "outputs": [
    {
     "name": "stdout",
     "output_type": "stream",
     "text": [
      "Best Hyperparameters: {'max_depth': 20, 'min_samples_leaf': 4, 'min_samples_split': 5, 'n_estimators': 20}\n",
      "Accuracy of the Best Model: 0.505\n"
     ]
    }
   ],
   "source": [
    "rf_model = RandomForestClassifier()\n",
    "\n",
    "param_grid = {\n",
    "    'n_estimators':[20,60,80,100,150],\n",
    "    'max_depth': [None, 5 ,10, 20],\n",
    "    'min_samples_split': [2, 5, 10],\n",
    "    'min_samples_leaf': [1, 2, 4]\n",
    "}\n",
    "\n",
    "grid_search = GridSearchCV(estimator=rf_model, param_grid=param_grid, cv=3, scoring='accuracy', n_jobs=-1)\n",
    "grid_search.fit(X_train, y_train)\n",
    "\n",
    "# Get the best hyperparameters\n",
    "best_params = grid_search.best_params_\n",
    "print(\"Best Hyperparameters:\", best_params)\n",
    "\n",
    "# Use the best model to make predictions on the test data\n",
    "best_model = grid_search.best_estimator_\n",
    "predictions = best_model.predict(X_test)\n",
    "\n",
    "# Evaluate the accuracy of the best model\n",
    "accuracy = accuracy_score(y_test, predictions)\n",
    "print(f\"Accuracy of the Best Model: {accuracy}\")"
   ]
  },
  {
   "cell_type": "code",
   "execution_count": 34,
   "id": "126cfe0e",
   "metadata": {},
   "outputs": [
    {
     "data": {
      "text/plain": [
       "array([1, 1, 1, 1, 1, 1, 0, 0, 1, 1, 0, 1, 0, 0, 0, 0, 1, 1, 0, 0, 1, 1,\n",
       "       0, 1, 1, 1, 1, 1, 1, 1, 1, 1, 0, 1, 1, 1, 1, 1, 1, 1, 1, 1, 1, 1,\n",
       "       1, 1, 0, 1, 0, 0, 0, 0, 1, 1, 0, 0, 1, 0, 1, 1, 0, 1, 0, 1, 1, 1,\n",
       "       0, 1, 1, 0, 1, 1, 1, 1, 0, 0, 0, 1, 1, 1, 1, 1, 0, 1, 1, 1, 1, 1,\n",
       "       1, 1, 1, 1, 0, 0, 0, 1, 0, 1, 1, 1, 1, 1, 1, 1, 1, 1, 1, 1, 0, 0,\n",
       "       1, 1, 0, 1, 1, 0, 1, 1, 1, 1, 0, 0, 0, 1, 0, 1, 0, 1, 1, 1, 0, 1,\n",
       "       0, 0, 1, 0, 1, 1, 1, 1, 1, 0, 1, 1, 1, 1, 1, 1, 1, 1, 1, 1, 0, 1,\n",
       "       1, 0, 1, 1, 1, 1, 1, 1, 1, 0, 1, 1, 1, 0, 0, 1, 1, 0, 0, 1, 0, 1,\n",
       "       1, 1, 0, 0, 0, 0, 0, 1, 1, 0, 1, 1, 1, 0, 1, 1, 0, 1, 0, 1, 1, 1,\n",
       "       0, 0])"
      ]
     },
     "execution_count": 34,
     "metadata": {},
     "output_type": "execute_result"
    }
   ],
   "source": [
    "RF = RandomForestClassifier(n_estimators = 20, min_samples_leaf = 4, min_samples_split = 5)\n",
    "RF_Model = RF.fit(X_train,y_train)\n",
    "RF_pred = RF.predict(X_test)\n",
    "RF_pred"
   ]
  },
  {
   "cell_type": "code",
   "execution_count": 35,
   "id": "460cc3d3",
   "metadata": {},
   "outputs": [
    {
     "name": "stdout",
     "output_type": "stream",
     "text": [
      "              precision    recall  f1-score   support\n",
      "\n",
      "           0       0.44      0.29      0.35        95\n",
      "           1       0.51      0.66      0.57       105\n",
      "\n",
      "    accuracy                           0.48       200\n",
      "   macro avg       0.47      0.48      0.46       200\n",
      "weighted avg       0.47      0.48      0.47       200\n",
      "\n"
     ]
    }
   ],
   "source": [
    "report = classification_report(y_test, RF_pred)\n",
    "print(report)"
   ]
  },
  {
   "cell_type": "code",
   "execution_count": 36,
   "id": "8dfffca4",
   "metadata": {},
   "outputs": [
    {
     "data": {
      "text/plain": [
       "array([1, 1, 1, 1, 1, 1, 0, 0, 1, 1, 1, 1, 0, 0, 1, 0, 1, 1, 0, 1, 1, 1,\n",
       "       0, 1, 1, 1, 1, 0, 0, 1, 1, 1, 0, 0, 0, 1, 0, 1, 1, 0, 1, 1, 1, 1,\n",
       "       1, 1, 0, 1, 0, 0, 0, 1, 1, 1, 0, 0, 0, 0, 1, 1, 0, 1, 0, 1, 1, 1,\n",
       "       0, 1, 1, 1, 1, 1, 1, 1, 0, 0, 0, 1, 1, 0, 0, 1, 0, 0, 1, 1, 1, 1,\n",
       "       1, 1, 1, 1, 0, 0, 1, 0, 0, 1, 1, 0, 1, 1, 1, 1, 1, 1, 1, 1, 1, 1,\n",
       "       1, 1, 0, 0, 1, 1, 1, 1, 0, 1, 0, 0, 1, 1, 0, 0, 1, 1, 1, 1, 1, 1,\n",
       "       0, 0, 1, 0, 0, 1, 1, 0, 1, 0, 1, 1, 1, 1, 1, 1, 1, 1, 1, 1, 0, 0,\n",
       "       1, 0, 0, 0, 1, 0, 0, 0, 1, 0, 1, 1, 1, 0, 0, 0, 1, 0, 0, 1, 1, 1,\n",
       "       1, 1, 0, 1, 0, 0, 0, 1, 0, 0, 1, 1, 1, 1, 1, 1, 0, 1, 0, 1, 1, 1,\n",
       "       0, 0])"
      ]
     },
     "execution_count": 36,
     "metadata": {},
     "output_type": "execute_result"
    }
   ],
   "source": [
    "from sklearn.ensemble import AdaBoostClassifier\n",
    "\n",
    "AB = AdaBoostClassifier()\n",
    "AB_Model = RF.fit(X_train,y_train)\n",
    "AB_pred = RF.predict(X_test)\n",
    "AB_pred"
   ]
  },
  {
   "cell_type": "code",
   "execution_count": 37,
   "id": "c643d577",
   "metadata": {},
   "outputs": [
    {
     "name": "stdout",
     "output_type": "stream",
     "text": [
      "              precision    recall  f1-score   support\n",
      "\n",
      "           0       0.41      0.32      0.36        95\n",
      "           1       0.48      0.58      0.53       105\n",
      "\n",
      "    accuracy                           0.46       200\n",
      "   macro avg       0.44      0.45      0.44       200\n",
      "weighted avg       0.45      0.46      0.45       200\n",
      "\n"
     ]
    }
   ],
   "source": [
    "report = classification_report(y_test, AB_pred)\n",
    "print(report)"
   ]
  },
  {
   "cell_type": "code",
   "execution_count": null,
   "id": "f1f2d63f",
   "metadata": {},
   "outputs": [],
   "source": []
  },
  {
   "cell_type": "code",
   "execution_count": null,
   "id": "b1c39c61",
   "metadata": {},
   "outputs": [],
   "source": []
  },
  {
   "cell_type": "code",
   "execution_count": null,
   "id": "f86abcdb",
   "metadata": {},
   "outputs": [],
   "source": []
  },
  {
   "cell_type": "code",
   "execution_count": null,
   "id": "fb11cbf3",
   "metadata": {},
   "outputs": [],
   "source": []
  },
  {
   "cell_type": "markdown",
   "id": "1755e86d",
   "metadata": {},
   "source": [
    "# NVDA"
   ]
  },
  {
   "cell_type": "code",
   "execution_count": 38,
   "id": "4293b22c",
   "metadata": {},
   "outputs": [
    {
     "data": {
      "text/html": [
       "<div>\n",
       "<style scoped>\n",
       "    .dataframe tbody tr th:only-of-type {\n",
       "        vertical-align: middle;\n",
       "    }\n",
       "\n",
       "    .dataframe tbody tr th {\n",
       "        vertical-align: top;\n",
       "    }\n",
       "\n",
       "    .dataframe thead th {\n",
       "        text-align: right;\n",
       "    }\n",
       "</style>\n",
       "<table border=\"1\" class=\"dataframe\">\n",
       "  <thead>\n",
       "    <tr style=\"text-align: right;\">\n",
       "      <th></th>\n",
       "      <th>Open</th>\n",
       "      <th>High</th>\n",
       "      <th>Low</th>\n",
       "      <th>Close</th>\n",
       "      <th>Volume</th>\n",
       "      <th>Dividends</th>\n",
       "      <th>Stock Splits</th>\n",
       "    </tr>\n",
       "    <tr>\n",
       "      <th>Date</th>\n",
       "      <th></th>\n",
       "      <th></th>\n",
       "      <th></th>\n",
       "      <th></th>\n",
       "      <th></th>\n",
       "      <th></th>\n",
       "      <th></th>\n",
       "    </tr>\n",
       "  </thead>\n",
       "  <tbody>\n",
       "    <tr>\n",
       "      <th>2004-02-23 00:00:00-05:00</th>\n",
       "      <td>1.842335</td>\n",
       "      <td>1.845393</td>\n",
       "      <td>1.756716</td>\n",
       "      <td>1.781179</td>\n",
       "      <td>85333200</td>\n",
       "      <td>0.0</td>\n",
       "      <td>0.0</td>\n",
       "    </tr>\n",
       "    <tr>\n",
       "      <th>2004-02-24 00:00:00-05:00</th>\n",
       "      <td>1.750600</td>\n",
       "      <td>1.772770</td>\n",
       "      <td>1.690973</td>\n",
       "      <td>1.710085</td>\n",
       "      <td>70838400</td>\n",
       "      <td>0.0</td>\n",
       "      <td>0.0</td>\n",
       "    </tr>\n",
       "    <tr>\n",
       "      <th>2004-02-25 00:00:00-05:00</th>\n",
       "      <td>1.720787</td>\n",
       "      <td>1.752894</td>\n",
       "      <td>1.701676</td>\n",
       "      <td>1.720023</td>\n",
       "      <td>65251200</td>\n",
       "      <td>0.0</td>\n",
       "      <td>0.0</td>\n",
       "    </tr>\n",
       "    <tr>\n",
       "      <th>2004-02-26 00:00:00-05:00</th>\n",
       "      <td>1.745249</td>\n",
       "      <td>1.748307</td>\n",
       "      <td>1.710085</td>\n",
       "      <td>1.731489</td>\n",
       "      <td>34497600</td>\n",
       "      <td>0.0</td>\n",
       "      <td>0.0</td>\n",
       "    </tr>\n",
       "    <tr>\n",
       "      <th>2004-02-27 00:00:00-05:00</th>\n",
       "      <td>1.735311</td>\n",
       "      <td>1.736840</td>\n",
       "      <td>1.674919</td>\n",
       "      <td>1.700911</td>\n",
       "      <td>59554800</td>\n",
       "      <td>0.0</td>\n",
       "      <td>0.0</td>\n",
       "    </tr>\n",
       "  </tbody>\n",
       "</table>\n",
       "</div>"
      ],
      "text/plain": [
       "                               Open      High       Low     Close    Volume  \\\n",
       "Date                                                                          \n",
       "2004-02-23 00:00:00-05:00  1.842335  1.845393  1.756716  1.781179  85333200   \n",
       "2004-02-24 00:00:00-05:00  1.750600  1.772770  1.690973  1.710085  70838400   \n",
       "2004-02-25 00:00:00-05:00  1.720787  1.752894  1.701676  1.720023  65251200   \n",
       "2004-02-26 00:00:00-05:00  1.745249  1.748307  1.710085  1.731489  34497600   \n",
       "2004-02-27 00:00:00-05:00  1.735311  1.736840  1.674919  1.700911  59554800   \n",
       "\n",
       "                           Dividends  Stock Splits  \n",
       "Date                                                \n",
       "2004-02-23 00:00:00-05:00        0.0           0.0  \n",
       "2004-02-24 00:00:00-05:00        0.0           0.0  \n",
       "2004-02-25 00:00:00-05:00        0.0           0.0  \n",
       "2004-02-26 00:00:00-05:00        0.0           0.0  \n",
       "2004-02-27 00:00:00-05:00        0.0           0.0  "
      ]
     },
     "execution_count": 38,
     "metadata": {},
     "output_type": "execute_result"
    }
   ],
   "source": [
    "Stock = yf.Ticker(\"NVDA\")\n",
    "df = Stock.history(period = '20y')\n",
    "df.head()"
   ]
  },
  {
   "cell_type": "code",
   "execution_count": 39,
   "id": "743f84da",
   "metadata": {},
   "outputs": [
    {
     "data": {
      "text/html": [
       "<div>\n",
       "<style scoped>\n",
       "    .dataframe tbody tr th:only-of-type {\n",
       "        vertical-align: middle;\n",
       "    }\n",
       "\n",
       "    .dataframe tbody tr th {\n",
       "        vertical-align: top;\n",
       "    }\n",
       "\n",
       "    .dataframe thead th {\n",
       "        text-align: right;\n",
       "    }\n",
       "</style>\n",
       "<table border=\"1\" class=\"dataframe\">\n",
       "  <thead>\n",
       "    <tr style=\"text-align: right;\">\n",
       "      <th></th>\n",
       "      <th>Open</th>\n",
       "      <th>High</th>\n",
       "      <th>Low</th>\n",
       "      <th>Close</th>\n",
       "      <th>Volume</th>\n",
       "      <th>Next Day Price</th>\n",
       "      <th>Target</th>\n",
       "    </tr>\n",
       "    <tr>\n",
       "      <th>Date</th>\n",
       "      <th></th>\n",
       "      <th></th>\n",
       "      <th></th>\n",
       "      <th></th>\n",
       "      <th></th>\n",
       "      <th></th>\n",
       "      <th></th>\n",
       "    </tr>\n",
       "  </thead>\n",
       "  <tbody>\n",
       "    <tr>\n",
       "      <th>2004-02-23 00:00:00-05:00</th>\n",
       "      <td>1.842335</td>\n",
       "      <td>1.845393</td>\n",
       "      <td>1.756716</td>\n",
       "      <td>1.781179</td>\n",
       "      <td>85333200</td>\n",
       "      <td>1.710085</td>\n",
       "      <td>0</td>\n",
       "    </tr>\n",
       "    <tr>\n",
       "      <th>2004-02-24 00:00:00-05:00</th>\n",
       "      <td>1.750600</td>\n",
       "      <td>1.772770</td>\n",
       "      <td>1.690973</td>\n",
       "      <td>1.710085</td>\n",
       "      <td>70838400</td>\n",
       "      <td>1.720023</td>\n",
       "      <td>1</td>\n",
       "    </tr>\n",
       "    <tr>\n",
       "      <th>2004-02-25 00:00:00-05:00</th>\n",
       "      <td>1.720787</td>\n",
       "      <td>1.752894</td>\n",
       "      <td>1.701676</td>\n",
       "      <td>1.720023</td>\n",
       "      <td>65251200</td>\n",
       "      <td>1.731489</td>\n",
       "      <td>1</td>\n",
       "    </tr>\n",
       "    <tr>\n",
       "      <th>2004-02-26 00:00:00-05:00</th>\n",
       "      <td>1.745249</td>\n",
       "      <td>1.748307</td>\n",
       "      <td>1.710085</td>\n",
       "      <td>1.731489</td>\n",
       "      <td>34497600</td>\n",
       "      <td>1.700911</td>\n",
       "      <td>0</td>\n",
       "    </tr>\n",
       "    <tr>\n",
       "      <th>2004-02-27 00:00:00-05:00</th>\n",
       "      <td>1.735311</td>\n",
       "      <td>1.736840</td>\n",
       "      <td>1.674919</td>\n",
       "      <td>1.700911</td>\n",
       "      <td>59554800</td>\n",
       "      <td>1.726138</td>\n",
       "      <td>1</td>\n",
       "    </tr>\n",
       "  </tbody>\n",
       "</table>\n",
       "</div>"
      ],
      "text/plain": [
       "                               Open      High       Low     Close    Volume  \\\n",
       "Date                                                                          \n",
       "2004-02-23 00:00:00-05:00  1.842335  1.845393  1.756716  1.781179  85333200   \n",
       "2004-02-24 00:00:00-05:00  1.750600  1.772770  1.690973  1.710085  70838400   \n",
       "2004-02-25 00:00:00-05:00  1.720787  1.752894  1.701676  1.720023  65251200   \n",
       "2004-02-26 00:00:00-05:00  1.745249  1.748307  1.710085  1.731489  34497600   \n",
       "2004-02-27 00:00:00-05:00  1.735311  1.736840  1.674919  1.700911  59554800   \n",
       "\n",
       "                           Next Day Price  Target  \n",
       "Date                                               \n",
       "2004-02-23 00:00:00-05:00        1.710085       0  \n",
       "2004-02-24 00:00:00-05:00        1.720023       1  \n",
       "2004-02-25 00:00:00-05:00        1.731489       1  \n",
       "2004-02-26 00:00:00-05:00        1.700911       0  \n",
       "2004-02-27 00:00:00-05:00        1.726138       1  "
      ]
     },
     "execution_count": 39,
     "metadata": {},
     "output_type": "execute_result"
    }
   ],
   "source": [
    "df.drop(['Dividends', 'Stock Splits'], axis = 1, inplace = True)\n",
    "df['Next Day Price'] = df['Close'].shift(-1)\n",
    "df['Target'] = (df['Next Day Price'] > df['Close']).astype(int)\n",
    "df.head()"
   ]
  },
  {
   "cell_type": "code",
   "execution_count": 40,
   "id": "972023bc",
   "metadata": {},
   "outputs": [],
   "source": [
    "train = df.iloc[:-200]\n",
    "test = df.iloc[-200:]\n",
    "\n",
    "X_train = train[['Close']]\n",
    "y_train = train[['Target']]\n",
    "X_test = test[['Close']]\n",
    "y_test = test[['Target']]"
   ]
  },
  {
   "cell_type": "code",
   "execution_count": 41,
   "id": "504c672d",
   "metadata": {},
   "outputs": [
    {
     "name": "stdout",
     "output_type": "stream",
     "text": [
      "(4834, 1)\n",
      "(200, 1)\n",
      "(4834, 1)\n",
      "(200, 1)\n"
     ]
    }
   ],
   "source": [
    "print(X_train.shape)\n",
    "print(X_test.shape)\n",
    "print(y_train.shape)\n",
    "print(y_test.shape)"
   ]
  },
  {
   "cell_type": "code",
   "execution_count": 42,
   "id": "71cccbe2",
   "metadata": {},
   "outputs": [
    {
     "data": {
      "text/plain": [
       "array([0, 1, 0, 0, 0, 0, 0, 1, 0, 1, 1, 1, 0, 0, 0, 0, 0, 0, 0, 0, 0, 0,\n",
       "       0, 0, 0, 0, 0, 0, 0, 0, 0, 0, 0, 0, 0, 0, 0, 0, 0, 0, 0, 0, 0, 0,\n",
       "       0, 0, 0, 0, 0, 0, 0, 0, 0, 0, 0, 0, 0, 0, 0, 0, 0, 0, 0, 0, 0, 0,\n",
       "       0, 0, 0, 0, 0, 0, 0, 0, 0, 0, 0, 0, 0, 0, 0, 0, 0, 0, 0, 0, 0, 0,\n",
       "       0, 0, 0, 0, 0, 0, 0, 0, 0, 0, 0, 0, 0, 0, 0, 0, 0, 0, 0, 0, 0, 0,\n",
       "       0, 0, 0, 0, 0, 0, 0, 0, 0, 0, 0, 0, 0, 0, 0, 0, 0, 0, 0, 0, 0, 0,\n",
       "       0, 0, 0, 0, 0, 0, 0, 0, 0, 0, 0, 0, 0, 0, 0, 0, 0, 0, 0, 0, 0, 0,\n",
       "       0, 0, 0, 0, 0, 0, 0, 0, 0, 0, 0, 0, 0, 0, 0, 0, 0, 0, 0, 0, 0, 0,\n",
       "       0, 0, 0, 0, 0, 0, 0, 0, 0, 0, 0, 0, 0, 0, 0, 0, 0, 0, 0, 0, 0, 0,\n",
       "       0, 0])"
      ]
     },
     "execution_count": 42,
     "metadata": {},
     "output_type": "execute_result"
    }
   ],
   "source": [
    "from sklearn.tree import DecisionTreeClassifier\n",
    "\n",
    "DT = DecisionTreeClassifier()\n",
    "D_Model = DT.fit(X_train,y_train)\n",
    "DT_pred = DT.predict(X_test)\n",
    "DT_pred"
   ]
  },
  {
   "cell_type": "code",
   "execution_count": 43,
   "id": "3bf82a22",
   "metadata": {},
   "outputs": [
    {
     "name": "stdout",
     "output_type": "stream",
     "text": [
      "              precision    recall  f1-score   support\n",
      "\n",
      "           0       0.44      0.96      0.60        89\n",
      "           1       0.20      0.01      0.02       111\n",
      "\n",
      "    accuracy                           0.43       200\n",
      "   macro avg       0.32      0.48      0.31       200\n",
      "weighted avg       0.30      0.43      0.28       200\n",
      "\n"
     ]
    }
   ],
   "source": [
    "report = classification_report(y_test, DT_pred)\n",
    "print(report)"
   ]
  },
  {
   "cell_type": "code",
   "execution_count": 44,
   "id": "5584f5e5",
   "metadata": {},
   "outputs": [],
   "source": [
    "from sklearn.model_selection import GridSearchCV, train_test_split\n",
    "from sklearn.metrics import accuracy_score"
   ]
  },
  {
   "cell_type": "code",
   "execution_count": 45,
   "id": "133a8cb1",
   "metadata": {},
   "outputs": [
    {
     "name": "stdout",
     "output_type": "stream",
     "text": [
      "Best Hyperparameters: {'max_depth': 20, 'min_samples_leaf': 4, 'min_samples_split': 5, 'n_estimators': 60}\n",
      "Accuracy of the Best Model: 0.435\n"
     ]
    }
   ],
   "source": [
    "rf_model = RandomForestClassifier()\n",
    "\n",
    "param_grid = {\n",
    "    'n_estimators':[20,60,80,100,150],\n",
    "    'max_depth': [None, 5 ,10, 20],\n",
    "    'min_samples_split': [2, 5, 10],\n",
    "    'min_samples_leaf': [1, 2, 4]\n",
    "}\n",
    "\n",
    "grid_search = GridSearchCV(estimator=rf_model, param_grid=param_grid, cv=3, scoring='accuracy', n_jobs=-1)\n",
    "grid_search.fit(X_train, y_train)\n",
    "\n",
    "# Get the best hyperparameters\n",
    "best_params = grid_search.best_params_\n",
    "print(\"Best Hyperparameters:\", best_params)\n",
    "\n",
    "# Use the best model to make predictions on the test data\n",
    "best_model = grid_search.best_estimator_\n",
    "predictions = best_model.predict(X_test)\n",
    "\n",
    "# Evaluate the accuracy of the best model\n",
    "accuracy = accuracy_score(y_test, predictions)\n",
    "print(f\"Accuracy of the Best Model: {accuracy}\")"
   ]
  },
  {
   "cell_type": "code",
   "execution_count": 46,
   "id": "888fc864",
   "metadata": {},
   "outputs": [
    {
     "data": {
      "text/plain": [
       "array([0, 1, 0, 0, 0, 0, 0, 1, 0, 1, 1, 0, 0, 0, 0, 0, 0, 0, 0, 0, 0, 0,\n",
       "       0, 0, 0, 0, 0, 0, 0, 0, 0, 0, 0, 0, 0, 0, 0, 0, 0, 0, 0, 0, 0, 0,\n",
       "       0, 0, 0, 0, 0, 0, 0, 0, 0, 0, 0, 0, 0, 0, 0, 0, 0, 0, 0, 0, 0, 0,\n",
       "       0, 0, 0, 0, 0, 0, 0, 0, 0, 0, 0, 0, 0, 0, 0, 0, 0, 0, 0, 0, 0, 0,\n",
       "       0, 0, 0, 0, 0, 0, 0, 0, 0, 0, 0, 0, 0, 0, 0, 0, 0, 0, 0, 0, 0, 0,\n",
       "       0, 0, 0, 0, 0, 0, 0, 0, 0, 0, 0, 0, 0, 0, 0, 0, 0, 0, 0, 0, 0, 0,\n",
       "       0, 0, 0, 0, 0, 0, 0, 0, 0, 0, 0, 0, 0, 0, 0, 0, 0, 0, 0, 0, 0, 0,\n",
       "       0, 0, 0, 0, 0, 0, 0, 0, 0, 0, 0, 0, 0, 0, 0, 0, 0, 0, 0, 0, 0, 0,\n",
       "       0, 0, 0, 0, 0, 0, 0, 0, 0, 0, 0, 0, 0, 0, 0, 0, 0, 0, 0, 0, 0, 0,\n",
       "       0, 0])"
      ]
     },
     "execution_count": 46,
     "metadata": {},
     "output_type": "execute_result"
    }
   ],
   "source": [
    "RF = RandomForestClassifier(n_estimators = 20, min_samples_leaf = 4, min_samples_split = 5)\n",
    "RF_Model = RF.fit(X_train,y_train)\n",
    "RF_pred = RF.predict(X_test)\n",
    "RF_pred"
   ]
  },
  {
   "cell_type": "code",
   "execution_count": 47,
   "id": "a41b2b5a",
   "metadata": {},
   "outputs": [
    {
     "name": "stdout",
     "output_type": "stream",
     "text": [
      "              precision    recall  f1-score   support\n",
      "\n",
      "           0       0.44      0.97      0.60        89\n",
      "           1       0.25      0.01      0.02       111\n",
      "\n",
      "    accuracy                           0.43       200\n",
      "   macro avg       0.34      0.49      0.31       200\n",
      "weighted avg       0.33      0.43      0.28       200\n",
      "\n"
     ]
    }
   ],
   "source": [
    "report = classification_report(y_test, RF_pred)\n",
    "print(report)"
   ]
  },
  {
   "cell_type": "code",
   "execution_count": 48,
   "id": "1814ee0d",
   "metadata": {},
   "outputs": [
    {
     "data": {
      "text/plain": [
       "array([0, 1, 0, 0, 0, 0, 1, 1, 0, 1, 1, 1, 0, 0, 0, 0, 0, 0, 0, 0, 0, 0,\n",
       "       0, 0, 0, 0, 0, 0, 0, 0, 0, 0, 0, 0, 0, 0, 0, 0, 0, 0, 0, 0, 0, 0,\n",
       "       0, 0, 0, 0, 0, 0, 0, 0, 0, 0, 0, 0, 0, 0, 0, 0, 0, 0, 0, 0, 0, 0,\n",
       "       0, 0, 0, 0, 0, 0, 0, 0, 0, 0, 0, 0, 0, 0, 0, 0, 0, 0, 0, 0, 0, 0,\n",
       "       0, 0, 0, 0, 0, 0, 0, 0, 0, 0, 0, 0, 0, 0, 0, 0, 0, 0, 0, 0, 0, 0,\n",
       "       0, 0, 0, 0, 0, 0, 0, 0, 0, 0, 0, 0, 0, 0, 0, 0, 0, 0, 0, 0, 0, 0,\n",
       "       0, 0, 0, 0, 0, 0, 0, 0, 0, 0, 0, 0, 0, 0, 0, 0, 0, 0, 0, 0, 0, 0,\n",
       "       0, 0, 0, 0, 0, 0, 0, 0, 0, 0, 0, 0, 0, 0, 0, 0, 0, 0, 0, 0, 0, 0,\n",
       "       0, 0, 0, 0, 0, 0, 0, 0, 0, 0, 0, 0, 0, 0, 0, 0, 0, 0, 0, 0, 0, 0,\n",
       "       0, 0])"
      ]
     },
     "execution_count": 48,
     "metadata": {},
     "output_type": "execute_result"
    }
   ],
   "source": [
    "from sklearn.ensemble import AdaBoostClassifier\n",
    "\n",
    "AB = AdaBoostClassifier()\n",
    "AB_Model = RF.fit(X_train,y_train)\n",
    "AB_pred = RF.predict(X_test)\n",
    "AB_pred"
   ]
  },
  {
   "cell_type": "code",
   "execution_count": 49,
   "id": "f1ced249",
   "metadata": {},
   "outputs": [
    {
     "name": "stdout",
     "output_type": "stream",
     "text": [
      "              precision    recall  f1-score   support\n",
      "\n",
      "           0       0.44      0.96      0.60        89\n",
      "           1       0.33      0.02      0.03       111\n",
      "\n",
      "    accuracy                           0.43       200\n",
      "   macro avg       0.39      0.49      0.32       200\n",
      "weighted avg       0.38      0.43      0.29       200\n",
      "\n"
     ]
    }
   ],
   "source": [
    "report = classification_report(y_test, AB_pred)\n",
    "print(report)"
   ]
  },
  {
   "cell_type": "markdown",
   "id": "56e45991",
   "metadata": {},
   "source": [
    "# AVGO"
   ]
  },
  {
   "cell_type": "code",
   "execution_count": 50,
   "id": "128d3247",
   "metadata": {},
   "outputs": [
    {
     "data": {
      "text/html": [
       "<div>\n",
       "<style scoped>\n",
       "    .dataframe tbody tr th:only-of-type {\n",
       "        vertical-align: middle;\n",
       "    }\n",
       "\n",
       "    .dataframe tbody tr th {\n",
       "        vertical-align: top;\n",
       "    }\n",
       "\n",
       "    .dataframe thead th {\n",
       "        text-align: right;\n",
       "    }\n",
       "</style>\n",
       "<table border=\"1\" class=\"dataframe\">\n",
       "  <thead>\n",
       "    <tr style=\"text-align: right;\">\n",
       "      <th></th>\n",
       "      <th>Open</th>\n",
       "      <th>High</th>\n",
       "      <th>Low</th>\n",
       "      <th>Close</th>\n",
       "      <th>Volume</th>\n",
       "      <th>Dividends</th>\n",
       "      <th>Stock Splits</th>\n",
       "    </tr>\n",
       "    <tr>\n",
       "      <th>Date</th>\n",
       "      <th></th>\n",
       "      <th></th>\n",
       "      <th></th>\n",
       "      <th></th>\n",
       "      <th></th>\n",
       "      <th></th>\n",
       "      <th></th>\n",
       "    </tr>\n",
       "  </thead>\n",
       "  <tbody>\n",
       "    <tr>\n",
       "      <th>2009-08-06 00:00:00-04:00</th>\n",
       "      <td>11.886165</td>\n",
       "      <td>12.181518</td>\n",
       "      <td>11.209014</td>\n",
       "      <td>11.655645</td>\n",
       "      <td>24197800</td>\n",
       "      <td>0.0</td>\n",
       "      <td>0.0</td>\n",
       "    </tr>\n",
       "    <tr>\n",
       "      <th>2009-08-07 00:00:00-04:00</th>\n",
       "      <td>11.634035</td>\n",
       "      <td>12.073463</td>\n",
       "      <td>11.547591</td>\n",
       "      <td>11.835740</td>\n",
       "      <td>2454300</td>\n",
       "      <td>0.0</td>\n",
       "      <td>0.0</td>\n",
       "    </tr>\n",
       "    <tr>\n",
       "      <th>2009-08-10 00:00:00-04:00</th>\n",
       "      <td>11.979812</td>\n",
       "      <td>11.979812</td>\n",
       "      <td>11.245031</td>\n",
       "      <td>11.504366</td>\n",
       "      <td>2421000</td>\n",
       "      <td>0.0</td>\n",
       "      <td>0.0</td>\n",
       "    </tr>\n",
       "    <tr>\n",
       "      <th>2009-08-11 00:00:00-04:00</th>\n",
       "      <td>11.511574</td>\n",
       "      <td>11.525982</td>\n",
       "      <td>11.165795</td>\n",
       "      <td>11.288259</td>\n",
       "      <td>2305400</td>\n",
       "      <td>0.0</td>\n",
       "      <td>0.0</td>\n",
       "    </tr>\n",
       "    <tr>\n",
       "      <th>2009-08-12 00:00:00-04:00</th>\n",
       "      <td>11.634038</td>\n",
       "      <td>11.670057</td>\n",
       "      <td>11.281055</td>\n",
       "      <td>11.525982</td>\n",
       "      <td>1451300</td>\n",
       "      <td>0.0</td>\n",
       "      <td>0.0</td>\n",
       "    </tr>\n",
       "  </tbody>\n",
       "</table>\n",
       "</div>"
      ],
      "text/plain": [
       "                                Open       High        Low      Close  \\\n",
       "Date                                                                    \n",
       "2009-08-06 00:00:00-04:00  11.886165  12.181518  11.209014  11.655645   \n",
       "2009-08-07 00:00:00-04:00  11.634035  12.073463  11.547591  11.835740   \n",
       "2009-08-10 00:00:00-04:00  11.979812  11.979812  11.245031  11.504366   \n",
       "2009-08-11 00:00:00-04:00  11.511574  11.525982  11.165795  11.288259   \n",
       "2009-08-12 00:00:00-04:00  11.634038  11.670057  11.281055  11.525982   \n",
       "\n",
       "                             Volume  Dividends  Stock Splits  \n",
       "Date                                                          \n",
       "2009-08-06 00:00:00-04:00  24197800        0.0           0.0  \n",
       "2009-08-07 00:00:00-04:00   2454300        0.0           0.0  \n",
       "2009-08-10 00:00:00-04:00   2421000        0.0           0.0  \n",
       "2009-08-11 00:00:00-04:00   2305400        0.0           0.0  \n",
       "2009-08-12 00:00:00-04:00   1451300        0.0           0.0  "
      ]
     },
     "execution_count": 50,
     "metadata": {},
     "output_type": "execute_result"
    }
   ],
   "source": [
    "Stock = yf.Ticker(\"AVGO\")\n",
    "df = Stock.history(period = '20y')\n",
    "df.head()"
   ]
  },
  {
   "cell_type": "code",
   "execution_count": 51,
   "id": "0d25405b",
   "metadata": {},
   "outputs": [
    {
     "data": {
      "text/html": [
       "<div>\n",
       "<style scoped>\n",
       "    .dataframe tbody tr th:only-of-type {\n",
       "        vertical-align: middle;\n",
       "    }\n",
       "\n",
       "    .dataframe tbody tr th {\n",
       "        vertical-align: top;\n",
       "    }\n",
       "\n",
       "    .dataframe thead th {\n",
       "        text-align: right;\n",
       "    }\n",
       "</style>\n",
       "<table border=\"1\" class=\"dataframe\">\n",
       "  <thead>\n",
       "    <tr style=\"text-align: right;\">\n",
       "      <th></th>\n",
       "      <th>Open</th>\n",
       "      <th>High</th>\n",
       "      <th>Low</th>\n",
       "      <th>Close</th>\n",
       "      <th>Volume</th>\n",
       "      <th>Next Day Price</th>\n",
       "      <th>Target</th>\n",
       "    </tr>\n",
       "    <tr>\n",
       "      <th>Date</th>\n",
       "      <th></th>\n",
       "      <th></th>\n",
       "      <th></th>\n",
       "      <th></th>\n",
       "      <th></th>\n",
       "      <th></th>\n",
       "      <th></th>\n",
       "    </tr>\n",
       "  </thead>\n",
       "  <tbody>\n",
       "    <tr>\n",
       "      <th>2009-08-06 00:00:00-04:00</th>\n",
       "      <td>11.886165</td>\n",
       "      <td>12.181518</td>\n",
       "      <td>11.209014</td>\n",
       "      <td>11.655645</td>\n",
       "      <td>24197800</td>\n",
       "      <td>11.835740</td>\n",
       "      <td>1</td>\n",
       "    </tr>\n",
       "    <tr>\n",
       "      <th>2009-08-07 00:00:00-04:00</th>\n",
       "      <td>11.634035</td>\n",
       "      <td>12.073463</td>\n",
       "      <td>11.547591</td>\n",
       "      <td>11.835740</td>\n",
       "      <td>2454300</td>\n",
       "      <td>11.504366</td>\n",
       "      <td>0</td>\n",
       "    </tr>\n",
       "    <tr>\n",
       "      <th>2009-08-10 00:00:00-04:00</th>\n",
       "      <td>11.979812</td>\n",
       "      <td>11.979812</td>\n",
       "      <td>11.245031</td>\n",
       "      <td>11.504366</td>\n",
       "      <td>2421000</td>\n",
       "      <td>11.288259</td>\n",
       "      <td>0</td>\n",
       "    </tr>\n",
       "    <tr>\n",
       "      <th>2009-08-11 00:00:00-04:00</th>\n",
       "      <td>11.511574</td>\n",
       "      <td>11.525982</td>\n",
       "      <td>11.165795</td>\n",
       "      <td>11.288259</td>\n",
       "      <td>2305400</td>\n",
       "      <td>11.525982</td>\n",
       "      <td>1</td>\n",
       "    </tr>\n",
       "    <tr>\n",
       "      <th>2009-08-12 00:00:00-04:00</th>\n",
       "      <td>11.634038</td>\n",
       "      <td>11.670057</td>\n",
       "      <td>11.281055</td>\n",
       "      <td>11.525982</td>\n",
       "      <td>1451300</td>\n",
       "      <td>11.922184</td>\n",
       "      <td>1</td>\n",
       "    </tr>\n",
       "  </tbody>\n",
       "</table>\n",
       "</div>"
      ],
      "text/plain": [
       "                                Open       High        Low      Close  \\\n",
       "Date                                                                    \n",
       "2009-08-06 00:00:00-04:00  11.886165  12.181518  11.209014  11.655645   \n",
       "2009-08-07 00:00:00-04:00  11.634035  12.073463  11.547591  11.835740   \n",
       "2009-08-10 00:00:00-04:00  11.979812  11.979812  11.245031  11.504366   \n",
       "2009-08-11 00:00:00-04:00  11.511574  11.525982  11.165795  11.288259   \n",
       "2009-08-12 00:00:00-04:00  11.634038  11.670057  11.281055  11.525982   \n",
       "\n",
       "                             Volume  Next Day Price  Target  \n",
       "Date                                                         \n",
       "2009-08-06 00:00:00-04:00  24197800       11.835740       1  \n",
       "2009-08-07 00:00:00-04:00   2454300       11.504366       0  \n",
       "2009-08-10 00:00:00-04:00   2421000       11.288259       0  \n",
       "2009-08-11 00:00:00-04:00   2305400       11.525982       1  \n",
       "2009-08-12 00:00:00-04:00   1451300       11.922184       1  "
      ]
     },
     "execution_count": 51,
     "metadata": {},
     "output_type": "execute_result"
    }
   ],
   "source": [
    "df.drop(['Dividends', 'Stock Splits'], axis = 1, inplace = True)\n",
    "df['Next Day Price'] = df['Close'].shift(-1)\n",
    "df['Target'] = (df['Next Day Price'] > df['Close']).astype(int)\n",
    "df.head()"
   ]
  },
  {
   "cell_type": "code",
   "execution_count": 52,
   "id": "27365aab",
   "metadata": {},
   "outputs": [],
   "source": [
    "train = df.iloc[:-200]\n",
    "test = df.iloc[-200:]\n",
    "\n",
    "X_train = train[['Close']]\n",
    "y_train = train[['Target']]\n",
    "X_test = test[['Close']]\n",
    "y_test = test[['Target']]"
   ]
  },
  {
   "cell_type": "code",
   "execution_count": 53,
   "id": "91566024",
   "metadata": {},
   "outputs": [
    {
     "name": "stdout",
     "output_type": "stream",
     "text": [
      "(3460, 1)\n",
      "(200, 1)\n",
      "(3460, 1)\n",
      "(200, 1)\n"
     ]
    }
   ],
   "source": [
    "print(X_train.shape)\n",
    "print(X_test.shape)\n",
    "print(y_train.shape)\n",
    "print(y_test.shape)"
   ]
  },
  {
   "cell_type": "code",
   "execution_count": 54,
   "id": "a4da0d33",
   "metadata": {},
   "outputs": [
    {
     "data": {
      "text/plain": [
       "array([1, 0, 0, 1, 0, 1, 1, 1, 0, 0, 0, 0, 0, 0, 0, 0, 0, 0, 0, 0, 0, 0,\n",
       "       0, 0, 0, 0, 0, 0, 0, 0, 0, 0, 0, 0, 0, 0, 0, 0, 0, 0, 0, 0, 0, 0,\n",
       "       0, 0, 0, 0, 0, 0, 0, 0, 0, 0, 0, 0, 0, 0, 0, 0, 0, 0, 0, 0, 0, 0,\n",
       "       0, 0, 0, 0, 0, 0, 0, 0, 0, 0, 0, 0, 0, 0, 0, 0, 0, 0, 0, 0, 0, 0,\n",
       "       0, 0, 0, 0, 0, 0, 0, 0, 0, 0, 0, 0, 0, 0, 0, 0, 0, 0, 0, 0, 0, 0,\n",
       "       0, 0, 0, 0, 0, 0, 0, 0, 0, 0, 0, 0, 0, 0, 0, 0, 0, 0, 0, 0, 0, 0,\n",
       "       0, 0, 0, 0, 0, 0, 0, 0, 0, 0, 0, 0, 0, 0, 0, 0, 0, 0, 0, 0, 0, 0,\n",
       "       0, 0, 0, 0, 0, 0, 0, 0, 0, 0, 0, 0, 0, 0, 0, 0, 0, 0, 0, 0, 0, 0,\n",
       "       0, 0, 0, 0, 0, 0, 0, 0, 0, 0, 0, 0, 0, 0, 0, 0, 0, 0, 0, 0, 0, 0,\n",
       "       0, 0])"
      ]
     },
     "execution_count": 54,
     "metadata": {},
     "output_type": "execute_result"
    }
   ],
   "source": [
    "from sklearn.tree import DecisionTreeClassifier\n",
    "\n",
    "DT = DecisionTreeClassifier()\n",
    "D_Model = DT.fit(X_train,y_train)\n",
    "DT_pred = DT.predict(X_test)\n",
    "DT_pred"
   ]
  },
  {
   "cell_type": "code",
   "execution_count": 55,
   "id": "17784a40",
   "metadata": {},
   "outputs": [
    {
     "name": "stdout",
     "output_type": "stream",
     "text": [
      "              precision    recall  f1-score   support\n",
      "\n",
      "           0       0.46      0.99      0.63        91\n",
      "           1       0.80      0.04      0.07       109\n",
      "\n",
      "    accuracy                           0.47       200\n",
      "   macro avg       0.63      0.51      0.35       200\n",
      "weighted avg       0.65      0.47      0.32       200\n",
      "\n"
     ]
    }
   ],
   "source": [
    "report = classification_report(y_test, DT_pred)\n",
    "print(report)"
   ]
  },
  {
   "cell_type": "code",
   "execution_count": 56,
   "id": "ff40be0a",
   "metadata": {},
   "outputs": [],
   "source": [
    "from sklearn.model_selection import GridSearchCV, train_test_split\n",
    "from sklearn.metrics import accuracy_score"
   ]
  },
  {
   "cell_type": "code",
   "execution_count": 57,
   "id": "7e1883a1",
   "metadata": {},
   "outputs": [
    {
     "name": "stdout",
     "output_type": "stream",
     "text": [
      "Best Hyperparameters: {'max_depth': None, 'min_samples_leaf': 1, 'min_samples_split': 5, 'n_estimators': 20}\n",
      "Accuracy of the Best Model: 0.47\n"
     ]
    }
   ],
   "source": [
    "rf_model = RandomForestClassifier()\n",
    "\n",
    "param_grid = {\n",
    "    'n_estimators':[20,60,80,100,150],\n",
    "    'max_depth': [None, 5 ,10, 20],\n",
    "    'min_samples_split': [2, 5, 10],\n",
    "    'min_samples_leaf': [1, 2, 4]\n",
    "}\n",
    "\n",
    "grid_search = GridSearchCV(estimator=rf_model, param_grid=param_grid, cv=3, scoring='accuracy', n_jobs=-1)\n",
    "grid_search.fit(X_train, y_train)\n",
    "\n",
    "# Get the best hyperparameters\n",
    "best_params = grid_search.best_params_\n",
    "print(\"Best Hyperparameters:\", best_params)\n",
    "\n",
    "# Use the best model to make predictions on the test data\n",
    "best_model = grid_search.best_estimator_\n",
    "predictions = best_model.predict(X_test)\n",
    "\n",
    "# Evaluate the accuracy of the best model\n",
    "accuracy = accuracy_score(y_test, predictions)\n",
    "print(f\"Accuracy of the Best Model: {accuracy}\")"
   ]
  },
  {
   "cell_type": "code",
   "execution_count": 58,
   "id": "75328f34",
   "metadata": {},
   "outputs": [
    {
     "data": {
      "text/plain": [
       "array([1, 0, 1, 1, 0, 1, 1, 0, 0, 0, 0, 0, 0, 0, 0, 0, 0, 0, 0, 0, 0, 0,\n",
       "       0, 0, 0, 0, 0, 0, 0, 0, 0, 0, 0, 0, 0, 0, 0, 0, 0, 0, 0, 0, 0, 0,\n",
       "       0, 0, 0, 0, 0, 0, 0, 0, 0, 0, 0, 0, 0, 0, 0, 0, 0, 0, 0, 0, 0, 0,\n",
       "       0, 0, 0, 0, 0, 0, 0, 0, 0, 0, 0, 0, 0, 0, 0, 0, 0, 0, 0, 0, 0, 0,\n",
       "       0, 0, 0, 0, 0, 0, 0, 0, 0, 0, 0, 0, 0, 0, 0, 0, 0, 0, 0, 0, 0, 0,\n",
       "       0, 0, 0, 0, 0, 0, 0, 0, 0, 0, 0, 0, 0, 0, 0, 0, 0, 0, 0, 0, 0, 0,\n",
       "       0, 0, 0, 0, 0, 0, 0, 0, 0, 0, 0, 0, 0, 0, 0, 0, 0, 0, 0, 0, 0, 0,\n",
       "       0, 0, 0, 0, 0, 0, 0, 0, 0, 0, 0, 0, 0, 0, 0, 0, 0, 0, 0, 0, 0, 0,\n",
       "       0, 0, 0, 0, 0, 0, 0, 0, 0, 0, 0, 0, 0, 0, 0, 0, 0, 0, 0, 0, 0, 0,\n",
       "       0, 0])"
      ]
     },
     "execution_count": 58,
     "metadata": {},
     "output_type": "execute_result"
    }
   ],
   "source": [
    "RF = RandomForestClassifier(n_estimators = 20, min_samples_leaf = 4, min_samples_split = 5)\n",
    "RF_Model = RF.fit(X_train,y_train)\n",
    "RF_pred = RF.predict(X_test)\n",
    "RF_pred"
   ]
  },
  {
   "cell_type": "code",
   "execution_count": 59,
   "id": "a0a26534",
   "metadata": {},
   "outputs": [
    {
     "name": "stdout",
     "output_type": "stream",
     "text": [
      "              precision    recall  f1-score   support\n",
      "\n",
      "           0       0.46      0.99      0.63        91\n",
      "           1       0.80      0.04      0.07       109\n",
      "\n",
      "    accuracy                           0.47       200\n",
      "   macro avg       0.63      0.51      0.35       200\n",
      "weighted avg       0.65      0.47      0.32       200\n",
      "\n"
     ]
    }
   ],
   "source": [
    "report = classification_report(y_test, RF_pred)\n",
    "print(report)"
   ]
  },
  {
   "cell_type": "code",
   "execution_count": 60,
   "id": "3096c601",
   "metadata": {},
   "outputs": [
    {
     "data": {
      "text/plain": [
       "array([1, 0, 1, 1, 0, 1, 0, 1, 0, 0, 0, 0, 0, 0, 0, 0, 0, 0, 0, 0, 0, 0,\n",
       "       0, 0, 0, 0, 0, 0, 0, 0, 0, 0, 0, 0, 0, 0, 0, 0, 0, 0, 0, 0, 0, 0,\n",
       "       0, 0, 0, 0, 0, 0, 0, 0, 0, 0, 0, 0, 0, 0, 0, 0, 0, 0, 0, 0, 0, 0,\n",
       "       0, 0, 0, 0, 0, 0, 0, 0, 0, 0, 0, 0, 0, 0, 0, 0, 0, 0, 0, 0, 0, 0,\n",
       "       0, 0, 0, 0, 0, 0, 0, 0, 0, 0, 0, 0, 0, 0, 0, 0, 0, 0, 0, 0, 0, 0,\n",
       "       0, 0, 0, 0, 0, 0, 0, 0, 0, 0, 0, 0, 0, 0, 0, 0, 0, 0, 0, 0, 0, 0,\n",
       "       0, 0, 0, 0, 0, 0, 0, 0, 0, 0, 0, 0, 0, 0, 0, 0, 0, 0, 0, 0, 0, 0,\n",
       "       0, 0, 0, 0, 0, 0, 0, 0, 0, 0, 0, 0, 0, 0, 0, 0, 0, 0, 0, 0, 0, 0,\n",
       "       0, 0, 0, 0, 0, 0, 0, 0, 0, 0, 0, 0, 0, 0, 0, 0, 0, 0, 0, 0, 0, 0,\n",
       "       0, 0])"
      ]
     },
     "execution_count": 60,
     "metadata": {},
     "output_type": "execute_result"
    }
   ],
   "source": [
    "from sklearn.ensemble import AdaBoostClassifier\n",
    "\n",
    "AB = AdaBoostClassifier()\n",
    "AB_Model = RF.fit(X_train,y_train)\n",
    "AB_pred = RF.predict(X_test)\n",
    "AB_pred"
   ]
  },
  {
   "cell_type": "code",
   "execution_count": 61,
   "id": "c62a30a7",
   "metadata": {},
   "outputs": [
    {
     "name": "stdout",
     "output_type": "stream",
     "text": [
      "              precision    recall  f1-score   support\n",
      "\n",
      "           0       0.46      0.99      0.63        91\n",
      "           1       0.80      0.04      0.07       109\n",
      "\n",
      "    accuracy                           0.47       200\n",
      "   macro avg       0.63      0.51      0.35       200\n",
      "weighted avg       0.65      0.47      0.32       200\n",
      "\n"
     ]
    }
   ],
   "source": [
    "report = classification_report(y_test, AB_pred)\n",
    "print(report)"
   ]
  },
  {
   "cell_type": "markdown",
   "id": "a7e938e0",
   "metadata": {},
   "source": [
    "# ANET"
   ]
  },
  {
   "cell_type": "code",
   "execution_count": 62,
   "id": "256f9a8c",
   "metadata": {},
   "outputs": [
    {
     "data": {
      "text/html": [
       "<div>\n",
       "<style scoped>\n",
       "    .dataframe tbody tr th:only-of-type {\n",
       "        vertical-align: middle;\n",
       "    }\n",
       "\n",
       "    .dataframe tbody tr th {\n",
       "        vertical-align: top;\n",
       "    }\n",
       "\n",
       "    .dataframe thead th {\n",
       "        text-align: right;\n",
       "    }\n",
       "</style>\n",
       "<table border=\"1\" class=\"dataframe\">\n",
       "  <thead>\n",
       "    <tr style=\"text-align: right;\">\n",
       "      <th></th>\n",
       "      <th>Open</th>\n",
       "      <th>High</th>\n",
       "      <th>Low</th>\n",
       "      <th>Close</th>\n",
       "      <th>Volume</th>\n",
       "      <th>Dividends</th>\n",
       "      <th>Stock Splits</th>\n",
       "    </tr>\n",
       "    <tr>\n",
       "      <th>Date</th>\n",
       "      <th></th>\n",
       "      <th></th>\n",
       "      <th></th>\n",
       "      <th></th>\n",
       "      <th></th>\n",
       "      <th></th>\n",
       "      <th></th>\n",
       "    </tr>\n",
       "  </thead>\n",
       "  <tbody>\n",
       "    <tr>\n",
       "      <th>2014-06-06 00:00:00-04:00</th>\n",
       "      <td>13.8125</td>\n",
       "      <td>15.0000</td>\n",
       "      <td>13.7500</td>\n",
       "      <td>13.750</td>\n",
       "      <td>29020400</td>\n",
       "      <td>0.0</td>\n",
       "      <td>0.0</td>\n",
       "    </tr>\n",
       "    <tr>\n",
       "      <th>2014-06-09 00:00:00-04:00</th>\n",
       "      <td>14.0625</td>\n",
       "      <td>14.2500</td>\n",
       "      <td>13.7500</td>\n",
       "      <td>13.800</td>\n",
       "      <td>2867600</td>\n",
       "      <td>0.0</td>\n",
       "      <td>0.0</td>\n",
       "    </tr>\n",
       "    <tr>\n",
       "      <th>2014-06-10 00:00:00-04:00</th>\n",
       "      <td>13.8125</td>\n",
       "      <td>15.0000</td>\n",
       "      <td>13.8125</td>\n",
       "      <td>15.000</td>\n",
       "      <td>3947200</td>\n",
       "      <td>0.0</td>\n",
       "      <td>0.0</td>\n",
       "    </tr>\n",
       "    <tr>\n",
       "      <th>2014-06-11 00:00:00-04:00</th>\n",
       "      <td>15.0000</td>\n",
       "      <td>15.8750</td>\n",
       "      <td>14.6650</td>\n",
       "      <td>15.875</td>\n",
       "      <td>2642000</td>\n",
       "      <td>0.0</td>\n",
       "      <td>0.0</td>\n",
       "    </tr>\n",
       "    <tr>\n",
       "      <th>2014-06-12 00:00:00-04:00</th>\n",
       "      <td>15.9125</td>\n",
       "      <td>16.9575</td>\n",
       "      <td>15.7675</td>\n",
       "      <td>16.500</td>\n",
       "      <td>2917200</td>\n",
       "      <td>0.0</td>\n",
       "      <td>0.0</td>\n",
       "    </tr>\n",
       "  </tbody>\n",
       "</table>\n",
       "</div>"
      ],
      "text/plain": [
       "                              Open     High      Low   Close    Volume  \\\n",
       "Date                                                                     \n",
       "2014-06-06 00:00:00-04:00  13.8125  15.0000  13.7500  13.750  29020400   \n",
       "2014-06-09 00:00:00-04:00  14.0625  14.2500  13.7500  13.800   2867600   \n",
       "2014-06-10 00:00:00-04:00  13.8125  15.0000  13.8125  15.000   3947200   \n",
       "2014-06-11 00:00:00-04:00  15.0000  15.8750  14.6650  15.875   2642000   \n",
       "2014-06-12 00:00:00-04:00  15.9125  16.9575  15.7675  16.500   2917200   \n",
       "\n",
       "                           Dividends  Stock Splits  \n",
       "Date                                                \n",
       "2014-06-06 00:00:00-04:00        0.0           0.0  \n",
       "2014-06-09 00:00:00-04:00        0.0           0.0  \n",
       "2014-06-10 00:00:00-04:00        0.0           0.0  \n",
       "2014-06-11 00:00:00-04:00        0.0           0.0  \n",
       "2014-06-12 00:00:00-04:00        0.0           0.0  "
      ]
     },
     "execution_count": 62,
     "metadata": {},
     "output_type": "execute_result"
    }
   ],
   "source": [
    "Stock = yf.Ticker(\"ANET\")\n",
    "df = Stock.history(period = '20y')\n",
    "df.head()"
   ]
  },
  {
   "cell_type": "code",
   "execution_count": 63,
   "id": "3bab5a95",
   "metadata": {},
   "outputs": [
    {
     "data": {
      "text/html": [
       "<div>\n",
       "<style scoped>\n",
       "    .dataframe tbody tr th:only-of-type {\n",
       "        vertical-align: middle;\n",
       "    }\n",
       "\n",
       "    .dataframe tbody tr th {\n",
       "        vertical-align: top;\n",
       "    }\n",
       "\n",
       "    .dataframe thead th {\n",
       "        text-align: right;\n",
       "    }\n",
       "</style>\n",
       "<table border=\"1\" class=\"dataframe\">\n",
       "  <thead>\n",
       "    <tr style=\"text-align: right;\">\n",
       "      <th></th>\n",
       "      <th>Open</th>\n",
       "      <th>High</th>\n",
       "      <th>Low</th>\n",
       "      <th>Close</th>\n",
       "      <th>Volume</th>\n",
       "      <th>Next Day Price</th>\n",
       "      <th>Target</th>\n",
       "    </tr>\n",
       "    <tr>\n",
       "      <th>Date</th>\n",
       "      <th></th>\n",
       "      <th></th>\n",
       "      <th></th>\n",
       "      <th></th>\n",
       "      <th></th>\n",
       "      <th></th>\n",
       "      <th></th>\n",
       "    </tr>\n",
       "  </thead>\n",
       "  <tbody>\n",
       "    <tr>\n",
       "      <th>2014-06-06 00:00:00-04:00</th>\n",
       "      <td>13.8125</td>\n",
       "      <td>15.0000</td>\n",
       "      <td>13.7500</td>\n",
       "      <td>13.750</td>\n",
       "      <td>29020400</td>\n",
       "      <td>13.800</td>\n",
       "      <td>1</td>\n",
       "    </tr>\n",
       "    <tr>\n",
       "      <th>2014-06-09 00:00:00-04:00</th>\n",
       "      <td>14.0625</td>\n",
       "      <td>14.2500</td>\n",
       "      <td>13.7500</td>\n",
       "      <td>13.800</td>\n",
       "      <td>2867600</td>\n",
       "      <td>15.000</td>\n",
       "      <td>1</td>\n",
       "    </tr>\n",
       "    <tr>\n",
       "      <th>2014-06-10 00:00:00-04:00</th>\n",
       "      <td>13.8125</td>\n",
       "      <td>15.0000</td>\n",
       "      <td>13.8125</td>\n",
       "      <td>15.000</td>\n",
       "      <td>3947200</td>\n",
       "      <td>15.875</td>\n",
       "      <td>1</td>\n",
       "    </tr>\n",
       "    <tr>\n",
       "      <th>2014-06-11 00:00:00-04:00</th>\n",
       "      <td>15.0000</td>\n",
       "      <td>15.8750</td>\n",
       "      <td>14.6650</td>\n",
       "      <td>15.875</td>\n",
       "      <td>2642000</td>\n",
       "      <td>16.500</td>\n",
       "      <td>1</td>\n",
       "    </tr>\n",
       "    <tr>\n",
       "      <th>2014-06-12 00:00:00-04:00</th>\n",
       "      <td>15.9125</td>\n",
       "      <td>16.9575</td>\n",
       "      <td>15.7675</td>\n",
       "      <td>16.500</td>\n",
       "      <td>2917200</td>\n",
       "      <td>17.395</td>\n",
       "      <td>1</td>\n",
       "    </tr>\n",
       "  </tbody>\n",
       "</table>\n",
       "</div>"
      ],
      "text/plain": [
       "                              Open     High      Low   Close    Volume  \\\n",
       "Date                                                                     \n",
       "2014-06-06 00:00:00-04:00  13.8125  15.0000  13.7500  13.750  29020400   \n",
       "2014-06-09 00:00:00-04:00  14.0625  14.2500  13.7500  13.800   2867600   \n",
       "2014-06-10 00:00:00-04:00  13.8125  15.0000  13.8125  15.000   3947200   \n",
       "2014-06-11 00:00:00-04:00  15.0000  15.8750  14.6650  15.875   2642000   \n",
       "2014-06-12 00:00:00-04:00  15.9125  16.9575  15.7675  16.500   2917200   \n",
       "\n",
       "                           Next Day Price  Target  \n",
       "Date                                               \n",
       "2014-06-06 00:00:00-04:00          13.800       1  \n",
       "2014-06-09 00:00:00-04:00          15.000       1  \n",
       "2014-06-10 00:00:00-04:00          15.875       1  \n",
       "2014-06-11 00:00:00-04:00          16.500       1  \n",
       "2014-06-12 00:00:00-04:00          17.395       1  "
      ]
     },
     "execution_count": 63,
     "metadata": {},
     "output_type": "execute_result"
    }
   ],
   "source": [
    "df.drop(['Dividends', 'Stock Splits'], axis = 1, inplace = True)\n",
    "df['Next Day Price'] = df['Close'].shift(-1)\n",
    "df['Target'] = (df['Next Day Price'] > df['Close']).astype(int)\n",
    "df.head()"
   ]
  },
  {
   "cell_type": "code",
   "execution_count": 64,
   "id": "7c9d643f",
   "metadata": {},
   "outputs": [],
   "source": [
    "train = df.iloc[:-200]\n",
    "test = df.iloc[-200:]\n",
    "\n",
    "X_train = train[['Close']]\n",
    "y_train = train[['Target']]\n",
    "X_test = test[['Close']]\n",
    "y_test = test[['Target']]"
   ]
  },
  {
   "cell_type": "code",
   "execution_count": 65,
   "id": "353bd5e7",
   "metadata": {},
   "outputs": [
    {
     "name": "stdout",
     "output_type": "stream",
     "text": [
      "(2244, 1)\n",
      "(200, 1)\n",
      "(2244, 1)\n",
      "(200, 1)\n"
     ]
    }
   ],
   "source": [
    "print(X_train.shape)\n",
    "print(X_test.shape)\n",
    "print(y_train.shape)\n",
    "print(y_test.shape)"
   ]
  },
  {
   "cell_type": "code",
   "execution_count": 66,
   "id": "b6ef1aa8",
   "metadata": {},
   "outputs": [
    {
     "data": {
      "text/plain": [
       "array([1, 1, 0, 0, 1, 0, 1, 1, 0, 1, 0, 0, 1, 0, 1, 0, 0, 1, 0, 0, 1, 1,\n",
       "       1, 1, 0, 0, 0, 0, 0, 0, 1, 1, 1, 0, 0, 1, 1, 1, 1, 1, 1, 1, 0, 1,\n",
       "       0, 1, 0, 1, 0, 0, 0, 0, 0, 0, 0, 1, 1, 1, 1, 0, 0, 0, 0, 0, 0, 0,\n",
       "       0, 0, 0, 0, 0, 0, 0, 0, 0, 0, 0, 0, 0, 0, 0, 0, 0, 0, 0, 0, 0, 0,\n",
       "       0, 0, 0, 0, 0, 0, 0, 0, 0, 0, 0, 0, 0, 0, 0, 0, 0, 0, 0, 0, 0, 0,\n",
       "       0, 0, 0, 0, 0, 0, 0, 0, 0, 0, 0, 0, 0, 0, 0, 0, 0, 0, 0, 0, 0, 0,\n",
       "       0, 0, 0, 0, 0, 0, 0, 0, 0, 0, 0, 0, 0, 0, 0, 0, 0, 0, 0, 0, 0, 0,\n",
       "       0, 0, 0, 0, 0, 0, 0, 0, 0, 0, 0, 0, 0, 0, 0, 0, 0, 0, 0, 0, 0, 0,\n",
       "       0, 0, 0, 0, 0, 0, 0, 0, 0, 0, 0, 0, 0, 0, 0, 0, 0, 0, 0, 0, 0, 0,\n",
       "       0, 0])"
      ]
     },
     "execution_count": 66,
     "metadata": {},
     "output_type": "execute_result"
    }
   ],
   "source": [
    "from sklearn.tree import DecisionTreeClassifier\n",
    "\n",
    "DT = DecisionTreeClassifier()\n",
    "D_Model = DT.fit(X_train,y_train)\n",
    "DT_pred = DT.predict(X_test)\n",
    "DT_pred"
   ]
  },
  {
   "cell_type": "code",
   "execution_count": 67,
   "id": "604865cb",
   "metadata": {},
   "outputs": [
    {
     "name": "stdout",
     "output_type": "stream",
     "text": [
      "              precision    recall  f1-score   support\n",
      "\n",
      "           0       0.42      0.84      0.56        86\n",
      "           1       0.53      0.14      0.22       114\n",
      "\n",
      "    accuracy                           0.44       200\n",
      "   macro avg       0.48      0.49      0.39       200\n",
      "weighted avg       0.49      0.44      0.37       200\n",
      "\n"
     ]
    }
   ],
   "source": [
    "report = classification_report(y_test, DT_pred)\n",
    "print(report)"
   ]
  },
  {
   "cell_type": "code",
   "execution_count": 68,
   "id": "f4b34b1f",
   "metadata": {},
   "outputs": [],
   "source": [
    "from sklearn.model_selection import GridSearchCV, train_test_split\n",
    "from sklearn.metrics import accuracy_score"
   ]
  },
  {
   "cell_type": "code",
   "execution_count": 69,
   "id": "361fa616",
   "metadata": {},
   "outputs": [
    {
     "name": "stdout",
     "output_type": "stream",
     "text": [
      "Best Hyperparameters: {'max_depth': 5, 'min_samples_leaf': 1, 'min_samples_split': 5, 'n_estimators': 150}\n",
      "Accuracy of the Best Model: 0.455\n"
     ]
    }
   ],
   "source": [
    "rf_model = RandomForestClassifier()\n",
    "\n",
    "param_grid = {\n",
    "    'n_estimators':[20,60,80,100,150],\n",
    "    'max_depth': [None, 5 ,10, 20],\n",
    "    'min_samples_split': [2, 5, 10],\n",
    "    'min_samples_leaf': [1, 2, 4]\n",
    "}\n",
    "\n",
    "grid_search = GridSearchCV(estimator=rf_model, param_grid=param_grid, cv=3, scoring='accuracy', n_jobs=-1)\n",
    "grid_search.fit(X_train, y_train)\n",
    "\n",
    "# Get the best hyperparameters\n",
    "best_params = grid_search.best_params_\n",
    "print(\"Best Hyperparameters:\", best_params)\n",
    "\n",
    "# Use the best model to make predictions on the test data\n",
    "best_model = grid_search.best_estimator_\n",
    "predictions = best_model.predict(X_test)\n",
    "\n",
    "# Evaluate the accuracy of the best model\n",
    "accuracy = accuracy_score(y_test, predictions)\n",
    "print(f\"Accuracy of the Best Model: {accuracy}\")"
   ]
  },
  {
   "cell_type": "code",
   "execution_count": 70,
   "id": "ddaca04c",
   "metadata": {},
   "outputs": [
    {
     "data": {
      "text/plain": [
       "array([1, 1, 0, 0, 1, 0, 1, 1, 0, 1, 1, 0, 0, 0, 1, 0, 0, 0, 0, 0, 0, 1,\n",
       "       1, 0, 0, 0, 0, 0, 0, 1, 1, 1, 1, 1, 1, 1, 1, 1, 0, 1, 1, 1, 1, 1,\n",
       "       1, 0, 0, 0, 0, 0, 0, 0, 0, 0, 0, 0, 1, 1, 1, 0, 0, 0, 0, 0, 0, 0,\n",
       "       0, 0, 0, 0, 0, 0, 0, 0, 0, 0, 0, 0, 0, 0, 0, 0, 0, 0, 0, 0, 0, 0,\n",
       "       0, 0, 0, 0, 0, 0, 0, 0, 0, 0, 0, 0, 0, 0, 0, 0, 0, 0, 0, 0, 0, 0,\n",
       "       0, 0, 0, 0, 0, 0, 0, 0, 0, 0, 0, 0, 0, 0, 0, 0, 0, 0, 0, 0, 0, 0,\n",
       "       0, 0, 0, 0, 0, 0, 0, 0, 0, 0, 0, 0, 0, 0, 0, 0, 0, 0, 0, 0, 0, 0,\n",
       "       0, 0, 0, 0, 0, 0, 0, 0, 0, 0, 0, 0, 0, 0, 0, 0, 0, 0, 0, 0, 0, 0,\n",
       "       0, 0, 0, 0, 0, 0, 0, 0, 0, 0, 0, 0, 0, 0, 0, 0, 0, 0, 0, 0, 0, 0,\n",
       "       0, 0])"
      ]
     },
     "execution_count": 70,
     "metadata": {},
     "output_type": "execute_result"
    }
   ],
   "source": [
    "RF = RandomForestClassifier(n_estimators = 20, min_samples_leaf = 4, min_samples_split = 5)\n",
    "RF_Model = RF.fit(X_train,y_train)\n",
    "RF_pred = RF.predict(X_test)\n",
    "RF_pred"
   ]
  },
  {
   "cell_type": "code",
   "execution_count": 71,
   "id": "2675b66c",
   "metadata": {},
   "outputs": [
    {
     "name": "stdout",
     "output_type": "stream",
     "text": [
      "              precision    recall  f1-score   support\n",
      "\n",
      "           0       0.43      0.86      0.57        86\n",
      "           1       0.57      0.14      0.23       114\n",
      "\n",
      "    accuracy                           0.45       200\n",
      "   macro avg       0.50      0.50      0.40       200\n",
      "weighted avg       0.51      0.45      0.38       200\n",
      "\n"
     ]
    }
   ],
   "source": [
    "report = classification_report(y_test, RF_pred)\n",
    "print(report)"
   ]
  },
  {
   "cell_type": "code",
   "execution_count": 72,
   "id": "7ff6d94b",
   "metadata": {},
   "outputs": [
    {
     "data": {
      "text/plain": [
       "array([1, 1, 0, 1, 1, 0, 1, 1, 0, 1, 1, 0, 1, 1, 1, 0, 0, 0, 0, 0, 0, 1,\n",
       "       1, 0, 0, 0, 0, 0, 0, 1, 1, 1, 1, 1, 1, 1, 1, 1, 0, 1, 1, 1, 1, 1,\n",
       "       1, 0, 0, 0, 0, 0, 0, 0, 0, 0, 0, 0, 1, 1, 1, 0, 0, 0, 0, 0, 0, 0,\n",
       "       0, 0, 0, 0, 0, 0, 0, 0, 0, 0, 0, 0, 0, 0, 0, 0, 0, 0, 0, 0, 0, 0,\n",
       "       0, 0, 0, 0, 0, 0, 0, 0, 0, 0, 0, 0, 0, 0, 0, 0, 0, 0, 0, 0, 0, 0,\n",
       "       0, 0, 0, 0, 0, 0, 0, 0, 0, 0, 0, 0, 0, 0, 0, 0, 0, 0, 0, 0, 0, 0,\n",
       "       0, 0, 0, 0, 0, 0, 0, 0, 0, 0, 0, 0, 0, 0, 0, 0, 0, 0, 0, 0, 0, 0,\n",
       "       0, 0, 0, 0, 0, 0, 0, 0, 0, 0, 0, 0, 0, 0, 0, 0, 0, 0, 0, 0, 0, 0,\n",
       "       0, 0, 0, 0, 0, 0, 0, 0, 0, 0, 0, 0, 0, 0, 0, 0, 0, 0, 0, 0, 0, 0,\n",
       "       0, 0])"
      ]
     },
     "execution_count": 72,
     "metadata": {},
     "output_type": "execute_result"
    }
   ],
   "source": [
    "from sklearn.ensemble import AdaBoostClassifier\n",
    "\n",
    "AB = AdaBoostClassifier()\n",
    "AB_Model = RF.fit(X_train,y_train)\n",
    "AB_pred = RF.predict(X_test)\n",
    "AB_pred"
   ]
  },
  {
   "cell_type": "code",
   "execution_count": null,
   "id": "04aa0be2",
   "metadata": {},
   "outputs": [],
   "source": [
    "report = classification_report(y_test, AB_pred)\n",
    "print(report)"
   ]
  },
  {
   "cell_type": "code",
   "execution_count": null,
   "id": "cf4affc0",
   "metadata": {},
   "outputs": [],
   "source": []
  }
 ],
 "metadata": {
  "kernelspec": {
   "display_name": "Python 3 (ipykernel)",
   "language": "python",
   "name": "python3"
  },
  "language_info": {
   "codemirror_mode": {
    "name": "ipython",
    "version": 3
   },
   "file_extension": ".py",
   "mimetype": "text/x-python",
   "name": "python",
   "nbconvert_exporter": "python",
   "pygments_lexer": "ipython3",
   "version": "3.11.5"
  }
 },
 "nbformat": 4,
 "nbformat_minor": 5
}
